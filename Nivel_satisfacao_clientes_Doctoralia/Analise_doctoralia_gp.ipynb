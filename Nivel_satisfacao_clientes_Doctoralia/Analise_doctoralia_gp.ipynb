{
 "cells": [
  {
   "cell_type": "code",
   "execution_count": 1,
   "id": "6afd7e64",
   "metadata": {},
   "outputs": [],
   "source": [
    "import pandas as pd\n",
    "import numpy as np"
   ]
  },
  {
   "cell_type": "code",
   "execution_count": 2,
   "id": "480b99d1",
   "metadata": {
    "scrolled": true
   },
   "outputs": [
    {
     "data": {
      "text/html": [
       "<div>\n",
       "<style scoped>\n",
       "    .dataframe tbody tr th:only-of-type {\n",
       "        vertical-align: middle;\n",
       "    }\n",
       "\n",
       "    .dataframe tbody tr th {\n",
       "        vertical-align: top;\n",
       "    }\n",
       "\n",
       "    .dataframe thead th {\n",
       "        text-align: right;\n",
       "    }\n",
       "</style>\n",
       "<table border=\"1\" class=\"dataframe\">\n",
       "  <thead>\n",
       "    <tr style=\"text-align: right;\">\n",
       "      <th></th>\n",
       "      <th>reviewId</th>\n",
       "      <th>userName</th>\n",
       "      <th>userImage</th>\n",
       "      <th>content</th>\n",
       "      <th>score</th>\n",
       "      <th>thumbsUpCount</th>\n",
       "      <th>reviewCreatedVersion</th>\n",
       "      <th>at</th>\n",
       "      <th>replyContent</th>\n",
       "      <th>repliedAt</th>\n",
       "      <th>appVersion</th>\n",
       "    </tr>\n",
       "  </thead>\n",
       "  <tbody>\n",
       "    <tr>\n",
       "      <th>0</th>\n",
       "      <td>5e1d6721-eeb5-457d-821a-dfb85538e22d</td>\n",
       "      <td>cleuza pagani</td>\n",
       "      <td>https://play-lh.googleusercontent.com/a-/AD_cM...</td>\n",
       "      <td>Objetivo ,já dá as opções de horário e dia par...</td>\n",
       "      <td>5</td>\n",
       "      <td>0</td>\n",
       "      <td>5.106.0</td>\n",
       "      <td>2023-08-30 10:10:08</td>\n",
       "      <td>NaN</td>\n",
       "      <td>NaT</td>\n",
       "      <td>5.106.0</td>\n",
       "    </tr>\n",
       "    <tr>\n",
       "      <th>1</th>\n",
       "      <td>4ba46c23-b567-430c-b3f2-4b9d412bcbde</td>\n",
       "      <td>Julio Silva</td>\n",
       "      <td>https://play-lh.googleusercontent.com/a/AAcHTt...</td>\n",
       "      <td>Excelente, prático e útil</td>\n",
       "      <td>5</td>\n",
       "      <td>0</td>\n",
       "      <td>5.102.0</td>\n",
       "      <td>2023-08-30 09:50:12</td>\n",
       "      <td>Olá! Muito obrigado pelo feedback positivo, es...</td>\n",
       "      <td>2023-08-30 09:53:42</td>\n",
       "      <td>5.102.0</td>\n",
       "    </tr>\n",
       "    <tr>\n",
       "      <th>2</th>\n",
       "      <td>6484ba13-f966-4498-ae0d-f1700f18bb10</td>\n",
       "      <td>Elisangela Marchesi Wasem Simoes</td>\n",
       "      <td>https://play-lh.googleusercontent.com/a-/AD_cM...</td>\n",
       "      <td>Excelente. Todos os médicos deveriam usar! Fac...</td>\n",
       "      <td>5</td>\n",
       "      <td>0</td>\n",
       "      <td>5.104.0</td>\n",
       "      <td>2023-08-30 08:26:42</td>\n",
       "      <td>Obrigado por usar a Doctoralia. É sempre bom v...</td>\n",
       "      <td>2023-08-30 09:51:06</td>\n",
       "      <td>5.104.0</td>\n",
       "    </tr>\n",
       "    <tr>\n",
       "      <th>3</th>\n",
       "      <td>d66a6d43-0c25-4457-bfb5-4bc3a8a2ff93</td>\n",
       "      <td>Marcia Addor</td>\n",
       "      <td>https://play-lh.googleusercontent.com/a/AAcHTt...</td>\n",
       "      <td>Bem interativo</td>\n",
       "      <td>5</td>\n",
       "      <td>0</td>\n",
       "      <td>5.102.0</td>\n",
       "      <td>2023-08-29 23:46:22</td>\n",
       "      <td>Sua opinião é muito importante para nós. Isso ...</td>\n",
       "      <td>2023-08-30 09:50:40</td>\n",
       "      <td>5.102.0</td>\n",
       "    </tr>\n",
       "    <tr>\n",
       "      <th>4</th>\n",
       "      <td>612259fe-37fc-4508-aadd-ba6237a02565</td>\n",
       "      <td>Veronica Azevedo</td>\n",
       "      <td>https://play-lh.googleusercontent.com/a/AAcHTt...</td>\n",
       "      <td>Marquei a consulta com tranquilidade</td>\n",
       "      <td>5</td>\n",
       "      <td>0</td>\n",
       "      <td>5.106.0</td>\n",
       "      <td>2023-08-29 19:53:52</td>\n",
       "      <td>Olá, muito obrigado pelo seu comentário. Quand...</td>\n",
       "      <td>2023-08-30 09:49:50</td>\n",
       "      <td>5.106.0</td>\n",
       "    </tr>\n",
       "    <tr>\n",
       "      <th>...</th>\n",
       "      <td>...</td>\n",
       "      <td>...</td>\n",
       "      <td>...</td>\n",
       "      <td>...</td>\n",
       "      <td>...</td>\n",
       "      <td>...</td>\n",
       "      <td>...</td>\n",
       "      <td>...</td>\n",
       "      <td>...</td>\n",
       "      <td>...</td>\n",
       "      <td>...</td>\n",
       "    </tr>\n",
       "    <tr>\n",
       "      <th>10109</th>\n",
       "      <td>8a0ae904-b2df-41b9-b1dd-fc18df94d720</td>\n",
       "      <td>Um usuário do Google</td>\n",
       "      <td>https://play-lh.googleusercontent.com/EGemoI2N...</td>\n",
       "      <td>Excelente aplicativo!!! Muito bom poder ir ao ...</td>\n",
       "      <td>5</td>\n",
       "      <td>2265</td>\n",
       "      <td>2.3.03</td>\n",
       "      <td>2019-01-26 15:04:43</td>\n",
       "      <td>Adoramos saber que estamos contribuindo para a...</td>\n",
       "      <td>2021-03-16 13:29:24</td>\n",
       "      <td>2.3.03</td>\n",
       "    </tr>\n",
       "    <tr>\n",
       "      <th>10110</th>\n",
       "      <td>be30c1b3-08e2-40b5-9671-53e37be2297b</td>\n",
       "      <td>Um usuário do Google</td>\n",
       "      <td>https://play-lh.googleusercontent.com/EGemoI2N...</td>\n",
       "      <td>App está lindo!!!! Atualizado, fácil e muito p...</td>\n",
       "      <td>5</td>\n",
       "      <td>1</td>\n",
       "      <td>2.3.03</td>\n",
       "      <td>2019-01-24 19:43:25</td>\n",
       "      <td>Adoramos saber que estamos contribuindo para a...</td>\n",
       "      <td>2021-03-16 13:24:28</td>\n",
       "      <td>2.3.03</td>\n",
       "    </tr>\n",
       "    <tr>\n",
       "      <th>10111</th>\n",
       "      <td>26b21afd-fb0a-47f6-abef-d1fcf618ff1d</td>\n",
       "      <td>Um usuário do Google</td>\n",
       "      <td>https://play-lh.googleusercontent.com/EGemoI2N...</td>\n",
       "      <td>Excelente</td>\n",
       "      <td>5</td>\n",
       "      <td>0</td>\n",
       "      <td>2.3.03</td>\n",
       "      <td>2019-01-23 16:10:30</td>\n",
       "      <td>Olá! Muito obrigado pelo feedback positivo, es...</td>\n",
       "      <td>2021-03-16 13:24:13</td>\n",
       "      <td>2.3.03</td>\n",
       "    </tr>\n",
       "    <tr>\n",
       "      <th>10112</th>\n",
       "      <td>5d8e7c09-5afd-425a-b35c-c26bf8cd915e</td>\n",
       "      <td>Um usuário do Google</td>\n",
       "      <td>https://play-lh.googleusercontent.com/EGemoI2N...</td>\n",
       "      <td>Pratico gostei muito!</td>\n",
       "      <td>5</td>\n",
       "      <td>1</td>\n",
       "      <td>2.3.02</td>\n",
       "      <td>2019-01-20 07:09:25</td>\n",
       "      <td>Adoramos saber que estamos contribuindo para a...</td>\n",
       "      <td>2021-03-16 13:24:03</td>\n",
       "      <td>2.3.02</td>\n",
       "    </tr>\n",
       "    <tr>\n",
       "      <th>10113</th>\n",
       "      <td>b9a766cd-102b-4a75-bf62-2ee443866459</td>\n",
       "      <td>Um usuário do Google</td>\n",
       "      <td>https://play-lh.googleusercontent.com/EGemoI2N...</td>\n",
       "      <td>Muito bom. Está incrível o novo aplicativo!</td>\n",
       "      <td>5</td>\n",
       "      <td>2</td>\n",
       "      <td>2.3.02</td>\n",
       "      <td>2019-01-16 17:23:05</td>\n",
       "      <td>Obrigado pelo seu feedback! É um prazer saber ...</td>\n",
       "      <td>2021-03-16 13:23:39</td>\n",
       "      <td>2.3.02</td>\n",
       "    </tr>\n",
       "  </tbody>\n",
       "</table>\n",
       "<p>10114 rows × 11 columns</p>\n",
       "</div>"
      ],
      "text/plain": [
       "                                   reviewId                          userName  \\\n",
       "0      5e1d6721-eeb5-457d-821a-dfb85538e22d                     cleuza pagani   \n",
       "1      4ba46c23-b567-430c-b3f2-4b9d412bcbde                       Julio Silva   \n",
       "2      6484ba13-f966-4498-ae0d-f1700f18bb10  Elisangela Marchesi Wasem Simoes   \n",
       "3      d66a6d43-0c25-4457-bfb5-4bc3a8a2ff93                      Marcia Addor   \n",
       "4      612259fe-37fc-4508-aadd-ba6237a02565                  Veronica Azevedo   \n",
       "...                                     ...                               ...   \n",
       "10109  8a0ae904-b2df-41b9-b1dd-fc18df94d720              Um usuário do Google   \n",
       "10110  be30c1b3-08e2-40b5-9671-53e37be2297b              Um usuário do Google   \n",
       "10111  26b21afd-fb0a-47f6-abef-d1fcf618ff1d              Um usuário do Google   \n",
       "10112  5d8e7c09-5afd-425a-b35c-c26bf8cd915e              Um usuário do Google   \n",
       "10113  b9a766cd-102b-4a75-bf62-2ee443866459              Um usuário do Google   \n",
       "\n",
       "                                               userImage  \\\n",
       "0      https://play-lh.googleusercontent.com/a-/AD_cM...   \n",
       "1      https://play-lh.googleusercontent.com/a/AAcHTt...   \n",
       "2      https://play-lh.googleusercontent.com/a-/AD_cM...   \n",
       "3      https://play-lh.googleusercontent.com/a/AAcHTt...   \n",
       "4      https://play-lh.googleusercontent.com/a/AAcHTt...   \n",
       "...                                                  ...   \n",
       "10109  https://play-lh.googleusercontent.com/EGemoI2N...   \n",
       "10110  https://play-lh.googleusercontent.com/EGemoI2N...   \n",
       "10111  https://play-lh.googleusercontent.com/EGemoI2N...   \n",
       "10112  https://play-lh.googleusercontent.com/EGemoI2N...   \n",
       "10113  https://play-lh.googleusercontent.com/EGemoI2N...   \n",
       "\n",
       "                                                 content  score  \\\n",
       "0      Objetivo ,já dá as opções de horário e dia par...      5   \n",
       "1                              Excelente, prático e útil      5   \n",
       "2      Excelente. Todos os médicos deveriam usar! Fac...      5   \n",
       "3                                         Bem interativo      5   \n",
       "4                   Marquei a consulta com tranquilidade      5   \n",
       "...                                                  ...    ...   \n",
       "10109  Excelente aplicativo!!! Muito bom poder ir ao ...      5   \n",
       "10110  App está lindo!!!! Atualizado, fácil e muito p...      5   \n",
       "10111                                          Excelente      5   \n",
       "10112                              Pratico gostei muito!      5   \n",
       "10113        Muito bom. Está incrível o novo aplicativo!      5   \n",
       "\n",
       "       thumbsUpCount reviewCreatedVersion                  at  \\\n",
       "0                  0              5.106.0 2023-08-30 10:10:08   \n",
       "1                  0              5.102.0 2023-08-30 09:50:12   \n",
       "2                  0              5.104.0 2023-08-30 08:26:42   \n",
       "3                  0              5.102.0 2023-08-29 23:46:22   \n",
       "4                  0              5.106.0 2023-08-29 19:53:52   \n",
       "...              ...                  ...                 ...   \n",
       "10109           2265               2.3.03 2019-01-26 15:04:43   \n",
       "10110              1               2.3.03 2019-01-24 19:43:25   \n",
       "10111              0               2.3.03 2019-01-23 16:10:30   \n",
       "10112              1               2.3.02 2019-01-20 07:09:25   \n",
       "10113              2               2.3.02 2019-01-16 17:23:05   \n",
       "\n",
       "                                            replyContent           repliedAt  \\\n",
       "0                                                    NaN                 NaT   \n",
       "1      Olá! Muito obrigado pelo feedback positivo, es... 2023-08-30 09:53:42   \n",
       "2      Obrigado por usar a Doctoralia. É sempre bom v... 2023-08-30 09:51:06   \n",
       "3      Sua opinião é muito importante para nós. Isso ... 2023-08-30 09:50:40   \n",
       "4      Olá, muito obrigado pelo seu comentário. Quand... 2023-08-30 09:49:50   \n",
       "...                                                  ...                 ...   \n",
       "10109  Adoramos saber que estamos contribuindo para a... 2021-03-16 13:29:24   \n",
       "10110  Adoramos saber que estamos contribuindo para a... 2021-03-16 13:24:28   \n",
       "10111  Olá! Muito obrigado pelo feedback positivo, es... 2021-03-16 13:24:13   \n",
       "10112  Adoramos saber que estamos contribuindo para a... 2021-03-16 13:24:03   \n",
       "10113  Obrigado pelo seu feedback! É um prazer saber ... 2021-03-16 13:23:39   \n",
       "\n",
       "      appVersion  \n",
       "0        5.106.0  \n",
       "1        5.102.0  \n",
       "2        5.104.0  \n",
       "3        5.102.0  \n",
       "4        5.106.0  \n",
       "...          ...  \n",
       "10109     2.3.03  \n",
       "10110     2.3.03  \n",
       "10111     2.3.03  \n",
       "10112     2.3.02  \n",
       "10113     2.3.02  \n",
       "\n",
       "[10114 rows x 11 columns]"
      ]
     },
     "execution_count": 2,
     "metadata": {},
     "output_type": "execute_result"
    }
   ],
   "source": [
    "df_reviews = pd.read_excel('reviews_gp.xlsx')\n",
    "df_reviews"
   ]
  },
  {
   "cell_type": "markdown",
   "id": "f336607e",
   "metadata": {},
   "source": [
    "Quais perguntas de negócios queremos investigar:\n",
    "\n",
    "1 – Qual a média das avaliações (estrelas) dos usuários em relação a empresa pesquisada? <br>\n",
    "2 – Quantas reviews a empresa pesquisada recebeu em cada ano? <br>\n",
    "3 – Qual o gênero preponderante das pessoas que deixaram as reviews? <br>\n",
    "4 – Qual o gênero preponderante das pessoas que deixaram as reviews negativas? <br>\n",
    "5 – Qual a média de reviews (estrelas) para cada gênero? <br>\n",
    "6 – Como se comporta a distribuição das avaliações positivas e negativas no decorrer dos anos? <br>\n",
    "7 – Quais foram os comentários negativos mais citados e qual a sua frequência?"
   ]
  },
  {
   "cell_type": "markdown",
   "id": "180555fa",
   "metadata": {},
   "source": [
    "# Análise da base"
   ]
  },
  {
   "cell_type": "code",
   "execution_count": 3,
   "id": "f81a27a2",
   "metadata": {},
   "outputs": [
    {
     "name": "stdout",
     "output_type": "stream",
     "text": [
      "<class 'pandas.core.frame.DataFrame'>\n",
      "RangeIndex: 10114 entries, 0 to 10113\n",
      "Data columns (total 11 columns):\n",
      " #   Column                Non-Null Count  Dtype         \n",
      "---  ------                --------------  -----         \n",
      " 0   reviewId              10114 non-null  object        \n",
      " 1   userName              10114 non-null  object        \n",
      " 2   userImage             10114 non-null  object        \n",
      " 3   content               10114 non-null  object        \n",
      " 4   score                 10114 non-null  int64         \n",
      " 5   thumbsUpCount         10114 non-null  int64         \n",
      " 6   reviewCreatedVersion  9311 non-null   object        \n",
      " 7   at                    10114 non-null  datetime64[ns]\n",
      " 8   replyContent          10083 non-null  object        \n",
      " 9   repliedAt             10083 non-null  datetime64[ns]\n",
      " 10  appVersion            9311 non-null   object        \n",
      "dtypes: datetime64[ns](2), int64(2), object(7)\n",
      "memory usage: 869.3+ KB\n"
     ]
    }
   ],
   "source": [
    "df_reviews.info()"
   ]
  },
  {
   "cell_type": "code",
   "execution_count": 4,
   "id": "e9e6a435",
   "metadata": {},
   "outputs": [
    {
     "data": {
      "text/plain": [
       "9764"
      ]
     },
     "execution_count": 4,
     "metadata": {},
     "output_type": "execute_result"
    }
   ],
   "source": [
    "qtd_nomes_usuario = len(df_reviews['userName'].drop_duplicates())\n",
    "qtd_nomes_usuario"
   ]
  },
  {
   "cell_type": "code",
   "execution_count": 5,
   "id": "336a13a7",
   "metadata": {},
   "outputs": [
    {
     "data": {
      "text/plain": [
       "515          Tamires Oliveira\n",
       "682           Marcus Vinicius\n",
       "778                 Ana Paula\n",
       "829          Claudia Oliveira\n",
       "1161                Ana Lucia\n",
       "                 ...         \n",
       "10109    Um usuário do Google\n",
       "10110    Um usuário do Google\n",
       "10111    Um usuário do Google\n",
       "10112    Um usuário do Google\n",
       "10113    Um usuário do Google\n",
       "Name: userName, Length: 350, dtype: object"
      ]
     },
     "execution_count": 5,
     "metadata": {},
     "output_type": "execute_result"
    }
   ],
   "source": [
    "#df_usuarios_repetidos = df_reviews['Usuário'].duplicated()\n",
    "df_usuarios_repetidos = df_reviews[df_reviews['userName'].duplicated()]['userName']\n",
    "df_usuarios_repetidos"
   ]
  },
  {
   "cell_type": "markdown",
   "id": "87697652",
   "metadata": {},
   "source": [
    "Aparentemente há 3 usuários com mais de uma avaliação. Poderia confirmar avaliando o link para o perfil pessoal. Se o perfil é igual, então são as mesmas pessoas."
   ]
  },
  {
   "cell_type": "markdown",
   "id": "6886084a",
   "metadata": {},
   "source": [
    "### 1 – Qual a média das avaliações (estrelas) dos usuários em relação a empresa pesquisada? <br>"
   ]
  },
  {
   "cell_type": "code",
   "execution_count": 6,
   "id": "1ce24313",
   "metadata": {},
   "outputs": [
    {
     "data": {
      "text/plain": [
       "4.605398457583547"
      ]
     },
     "execution_count": 6,
     "metadata": {},
     "output_type": "execute_result"
    }
   ],
   "source": [
    "media_estrelas = df_reviews['score'].mean()\n",
    "media_estrelas"
   ]
  },
  {
   "cell_type": "code",
   "execution_count": 7,
   "id": "4d88be6f",
   "metadata": {},
   "outputs": [
    {
     "data": {
      "text/plain": [
       "1.0265026196862372"
      ]
     },
     "execution_count": 7,
     "metadata": {},
     "output_type": "execute_result"
    }
   ],
   "source": [
    "std_estrelas = df_reviews['score'].std()\n",
    "std_estrelas"
   ]
  },
  {
   "cell_type": "markdown",
   "id": "5438f9e4",
   "metadata": {},
   "source": [
    "### 2 – Quantas reviews a empresa pesquisada recebeu em cada ano?"
   ]
  },
  {
   "cell_type": "code",
   "execution_count": 8,
   "id": "30c13dd0",
   "metadata": {},
   "outputs": [],
   "source": [
    "def _conditions(Periodo):    \n",
    "    if Periodo <= 365*1:\n",
    "        periodo = '1 ano atrás ou menos'\n",
    "    elif Periodo <= 365*2:\n",
    "        periodo = '2 anos atrás'\n",
    "    elif Periodo <= 365*3:\n",
    "        periodo = '3 anos atrás'\n",
    "    elif Periodo <= 365*4:\n",
    "        periodo = '4 anos atrás'\n",
    "    elif Periodo <= 365*5:\n",
    "        periodo = '5 anos atrás'\n",
    "    else: periodo  = '5 anos atrás ou mais'\n",
    "    return periodo\n"
   ]
  },
  {
   "cell_type": "code",
   "execution_count": 9,
   "id": "39f08081",
   "metadata": {},
   "outputs": [
    {
     "data": {
      "text/html": [
       "<div>\n",
       "<style scoped>\n",
       "    .dataframe tbody tr th:only-of-type {\n",
       "        vertical-align: middle;\n",
       "    }\n",
       "\n",
       "    .dataframe tbody tr th {\n",
       "        vertical-align: top;\n",
       "    }\n",
       "\n",
       "    .dataframe thead th {\n",
       "        text-align: right;\n",
       "    }\n",
       "</style>\n",
       "<table border=\"1\" class=\"dataframe\">\n",
       "  <thead>\n",
       "    <tr style=\"text-align: right;\">\n",
       "      <th></th>\n",
       "      <th>reviewId</th>\n",
       "      <th>userName</th>\n",
       "      <th>userImage</th>\n",
       "      <th>content</th>\n",
       "      <th>score</th>\n",
       "      <th>thumbsUpCount</th>\n",
       "      <th>reviewCreatedVersion</th>\n",
       "      <th>at</th>\n",
       "      <th>replyContent</th>\n",
       "      <th>repliedAt</th>\n",
       "      <th>appVersion</th>\n",
       "      <th>Periodo</th>\n",
       "      <th>Periodo_normalizado</th>\n",
       "    </tr>\n",
       "  </thead>\n",
       "  <tbody>\n",
       "    <tr>\n",
       "      <th>0</th>\n",
       "      <td>5e1d6721-eeb5-457d-821a-dfb85538e22d</td>\n",
       "      <td>cleuza pagani</td>\n",
       "      <td>https://play-lh.googleusercontent.com/a-/AD_cM...</td>\n",
       "      <td>Objetivo ,já dá as opções de horário e dia par...</td>\n",
       "      <td>5</td>\n",
       "      <td>0</td>\n",
       "      <td>5.106.0</td>\n",
       "      <td>2023-08-30 10:10:08</td>\n",
       "      <td>NaN</td>\n",
       "      <td>NaT</td>\n",
       "      <td>5.106.0</td>\n",
       "      <td>10</td>\n",
       "      <td>1 ano atrás ou menos</td>\n",
       "    </tr>\n",
       "    <tr>\n",
       "      <th>1</th>\n",
       "      <td>4ba46c23-b567-430c-b3f2-4b9d412bcbde</td>\n",
       "      <td>Julio Silva</td>\n",
       "      <td>https://play-lh.googleusercontent.com/a/AAcHTt...</td>\n",
       "      <td>Excelente, prático e útil</td>\n",
       "      <td>5</td>\n",
       "      <td>0</td>\n",
       "      <td>5.102.0</td>\n",
       "      <td>2023-08-30 09:50:12</td>\n",
       "      <td>Olá! Muito obrigado pelo feedback positivo, es...</td>\n",
       "      <td>2023-08-30 09:53:42</td>\n",
       "      <td>5.102.0</td>\n",
       "      <td>10</td>\n",
       "      <td>1 ano atrás ou menos</td>\n",
       "    </tr>\n",
       "    <tr>\n",
       "      <th>2</th>\n",
       "      <td>6484ba13-f966-4498-ae0d-f1700f18bb10</td>\n",
       "      <td>Elisangela Marchesi Wasem Simoes</td>\n",
       "      <td>https://play-lh.googleusercontent.com/a-/AD_cM...</td>\n",
       "      <td>Excelente. Todos os médicos deveriam usar! Fac...</td>\n",
       "      <td>5</td>\n",
       "      <td>0</td>\n",
       "      <td>5.104.0</td>\n",
       "      <td>2023-08-30 08:26:42</td>\n",
       "      <td>Obrigado por usar a Doctoralia. É sempre bom v...</td>\n",
       "      <td>2023-08-30 09:51:06</td>\n",
       "      <td>5.104.0</td>\n",
       "      <td>10</td>\n",
       "      <td>1 ano atrás ou menos</td>\n",
       "    </tr>\n",
       "    <tr>\n",
       "      <th>3</th>\n",
       "      <td>d66a6d43-0c25-4457-bfb5-4bc3a8a2ff93</td>\n",
       "      <td>Marcia Addor</td>\n",
       "      <td>https://play-lh.googleusercontent.com/a/AAcHTt...</td>\n",
       "      <td>Bem interativo</td>\n",
       "      <td>5</td>\n",
       "      <td>0</td>\n",
       "      <td>5.102.0</td>\n",
       "      <td>2023-08-29 23:46:22</td>\n",
       "      <td>Sua opinião é muito importante para nós. Isso ...</td>\n",
       "      <td>2023-08-30 09:50:40</td>\n",
       "      <td>5.102.0</td>\n",
       "      <td>10</td>\n",
       "      <td>1 ano atrás ou menos</td>\n",
       "    </tr>\n",
       "    <tr>\n",
       "      <th>4</th>\n",
       "      <td>612259fe-37fc-4508-aadd-ba6237a02565</td>\n",
       "      <td>Veronica Azevedo</td>\n",
       "      <td>https://play-lh.googleusercontent.com/a/AAcHTt...</td>\n",
       "      <td>Marquei a consulta com tranquilidade</td>\n",
       "      <td>5</td>\n",
       "      <td>0</td>\n",
       "      <td>5.106.0</td>\n",
       "      <td>2023-08-29 19:53:52</td>\n",
       "      <td>Olá, muito obrigado pelo seu comentário. Quand...</td>\n",
       "      <td>2023-08-30 09:49:50</td>\n",
       "      <td>5.106.0</td>\n",
       "      <td>11</td>\n",
       "      <td>1 ano atrás ou menos</td>\n",
       "    </tr>\n",
       "    <tr>\n",
       "      <th>...</th>\n",
       "      <td>...</td>\n",
       "      <td>...</td>\n",
       "      <td>...</td>\n",
       "      <td>...</td>\n",
       "      <td>...</td>\n",
       "      <td>...</td>\n",
       "      <td>...</td>\n",
       "      <td>...</td>\n",
       "      <td>...</td>\n",
       "      <td>...</td>\n",
       "      <td>...</td>\n",
       "      <td>...</td>\n",
       "      <td>...</td>\n",
       "    </tr>\n",
       "    <tr>\n",
       "      <th>10109</th>\n",
       "      <td>8a0ae904-b2df-41b9-b1dd-fc18df94d720</td>\n",
       "      <td>Um usuário do Google</td>\n",
       "      <td>https://play-lh.googleusercontent.com/EGemoI2N...</td>\n",
       "      <td>Excelente aplicativo!!! Muito bom poder ir ao ...</td>\n",
       "      <td>5</td>\n",
       "      <td>2265</td>\n",
       "      <td>2.3.03</td>\n",
       "      <td>2019-01-26 15:04:43</td>\n",
       "      <td>Adoramos saber que estamos contribuindo para a...</td>\n",
       "      <td>2021-03-16 13:29:24</td>\n",
       "      <td>2.3.03</td>\n",
       "      <td>1687</td>\n",
       "      <td>5 anos atrás</td>\n",
       "    </tr>\n",
       "    <tr>\n",
       "      <th>10110</th>\n",
       "      <td>be30c1b3-08e2-40b5-9671-53e37be2297b</td>\n",
       "      <td>Um usuário do Google</td>\n",
       "      <td>https://play-lh.googleusercontent.com/EGemoI2N...</td>\n",
       "      <td>App está lindo!!!! Atualizado, fácil e muito p...</td>\n",
       "      <td>5</td>\n",
       "      <td>1</td>\n",
       "      <td>2.3.03</td>\n",
       "      <td>2019-01-24 19:43:25</td>\n",
       "      <td>Adoramos saber que estamos contribuindo para a...</td>\n",
       "      <td>2021-03-16 13:24:28</td>\n",
       "      <td>2.3.03</td>\n",
       "      <td>1689</td>\n",
       "      <td>5 anos atrás</td>\n",
       "    </tr>\n",
       "    <tr>\n",
       "      <th>10111</th>\n",
       "      <td>26b21afd-fb0a-47f6-abef-d1fcf618ff1d</td>\n",
       "      <td>Um usuário do Google</td>\n",
       "      <td>https://play-lh.googleusercontent.com/EGemoI2N...</td>\n",
       "      <td>Excelente</td>\n",
       "      <td>5</td>\n",
       "      <td>0</td>\n",
       "      <td>2.3.03</td>\n",
       "      <td>2019-01-23 16:10:30</td>\n",
       "      <td>Olá! Muito obrigado pelo feedback positivo, es...</td>\n",
       "      <td>2021-03-16 13:24:13</td>\n",
       "      <td>2.3.03</td>\n",
       "      <td>1690</td>\n",
       "      <td>5 anos atrás</td>\n",
       "    </tr>\n",
       "    <tr>\n",
       "      <th>10112</th>\n",
       "      <td>5d8e7c09-5afd-425a-b35c-c26bf8cd915e</td>\n",
       "      <td>Um usuário do Google</td>\n",
       "      <td>https://play-lh.googleusercontent.com/EGemoI2N...</td>\n",
       "      <td>Pratico gostei muito!</td>\n",
       "      <td>5</td>\n",
       "      <td>1</td>\n",
       "      <td>2.3.02</td>\n",
       "      <td>2019-01-20 07:09:25</td>\n",
       "      <td>Adoramos saber que estamos contribuindo para a...</td>\n",
       "      <td>2021-03-16 13:24:03</td>\n",
       "      <td>2.3.02</td>\n",
       "      <td>1693</td>\n",
       "      <td>5 anos atrás</td>\n",
       "    </tr>\n",
       "    <tr>\n",
       "      <th>10113</th>\n",
       "      <td>b9a766cd-102b-4a75-bf62-2ee443866459</td>\n",
       "      <td>Um usuário do Google</td>\n",
       "      <td>https://play-lh.googleusercontent.com/EGemoI2N...</td>\n",
       "      <td>Muito bom. Está incrível o novo aplicativo!</td>\n",
       "      <td>5</td>\n",
       "      <td>2</td>\n",
       "      <td>2.3.02</td>\n",
       "      <td>2019-01-16 17:23:05</td>\n",
       "      <td>Obrigado pelo seu feedback! É um prazer saber ...</td>\n",
       "      <td>2021-03-16 13:23:39</td>\n",
       "      <td>2.3.02</td>\n",
       "      <td>1697</td>\n",
       "      <td>5 anos atrás</td>\n",
       "    </tr>\n",
       "  </tbody>\n",
       "</table>\n",
       "<p>10114 rows × 13 columns</p>\n",
       "</div>"
      ],
      "text/plain": [
       "                                   reviewId                          userName  \\\n",
       "0      5e1d6721-eeb5-457d-821a-dfb85538e22d                     cleuza pagani   \n",
       "1      4ba46c23-b567-430c-b3f2-4b9d412bcbde                       Julio Silva   \n",
       "2      6484ba13-f966-4498-ae0d-f1700f18bb10  Elisangela Marchesi Wasem Simoes   \n",
       "3      d66a6d43-0c25-4457-bfb5-4bc3a8a2ff93                      Marcia Addor   \n",
       "4      612259fe-37fc-4508-aadd-ba6237a02565                  Veronica Azevedo   \n",
       "...                                     ...                               ...   \n",
       "10109  8a0ae904-b2df-41b9-b1dd-fc18df94d720              Um usuário do Google   \n",
       "10110  be30c1b3-08e2-40b5-9671-53e37be2297b              Um usuário do Google   \n",
       "10111  26b21afd-fb0a-47f6-abef-d1fcf618ff1d              Um usuário do Google   \n",
       "10112  5d8e7c09-5afd-425a-b35c-c26bf8cd915e              Um usuário do Google   \n",
       "10113  b9a766cd-102b-4a75-bf62-2ee443866459              Um usuário do Google   \n",
       "\n",
       "                                               userImage  \\\n",
       "0      https://play-lh.googleusercontent.com/a-/AD_cM...   \n",
       "1      https://play-lh.googleusercontent.com/a/AAcHTt...   \n",
       "2      https://play-lh.googleusercontent.com/a-/AD_cM...   \n",
       "3      https://play-lh.googleusercontent.com/a/AAcHTt...   \n",
       "4      https://play-lh.googleusercontent.com/a/AAcHTt...   \n",
       "...                                                  ...   \n",
       "10109  https://play-lh.googleusercontent.com/EGemoI2N...   \n",
       "10110  https://play-lh.googleusercontent.com/EGemoI2N...   \n",
       "10111  https://play-lh.googleusercontent.com/EGemoI2N...   \n",
       "10112  https://play-lh.googleusercontent.com/EGemoI2N...   \n",
       "10113  https://play-lh.googleusercontent.com/EGemoI2N...   \n",
       "\n",
       "                                                 content  score  \\\n",
       "0      Objetivo ,já dá as opções de horário e dia par...      5   \n",
       "1                              Excelente, prático e útil      5   \n",
       "2      Excelente. Todos os médicos deveriam usar! Fac...      5   \n",
       "3                                         Bem interativo      5   \n",
       "4                   Marquei a consulta com tranquilidade      5   \n",
       "...                                                  ...    ...   \n",
       "10109  Excelente aplicativo!!! Muito bom poder ir ao ...      5   \n",
       "10110  App está lindo!!!! Atualizado, fácil e muito p...      5   \n",
       "10111                                          Excelente      5   \n",
       "10112                              Pratico gostei muito!      5   \n",
       "10113        Muito bom. Está incrível o novo aplicativo!      5   \n",
       "\n",
       "       thumbsUpCount reviewCreatedVersion                  at  \\\n",
       "0                  0              5.106.0 2023-08-30 10:10:08   \n",
       "1                  0              5.102.0 2023-08-30 09:50:12   \n",
       "2                  0              5.104.0 2023-08-30 08:26:42   \n",
       "3                  0              5.102.0 2023-08-29 23:46:22   \n",
       "4                  0              5.106.0 2023-08-29 19:53:52   \n",
       "...              ...                  ...                 ...   \n",
       "10109           2265               2.3.03 2019-01-26 15:04:43   \n",
       "10110              1               2.3.03 2019-01-24 19:43:25   \n",
       "10111              0               2.3.03 2019-01-23 16:10:30   \n",
       "10112              1               2.3.02 2019-01-20 07:09:25   \n",
       "10113              2               2.3.02 2019-01-16 17:23:05   \n",
       "\n",
       "                                            replyContent           repliedAt  \\\n",
       "0                                                    NaN                 NaT   \n",
       "1      Olá! Muito obrigado pelo feedback positivo, es... 2023-08-30 09:53:42   \n",
       "2      Obrigado por usar a Doctoralia. É sempre bom v... 2023-08-30 09:51:06   \n",
       "3      Sua opinião é muito importante para nós. Isso ... 2023-08-30 09:50:40   \n",
       "4      Olá, muito obrigado pelo seu comentário. Quand... 2023-08-30 09:49:50   \n",
       "...                                                  ...                 ...   \n",
       "10109  Adoramos saber que estamos contribuindo para a... 2021-03-16 13:29:24   \n",
       "10110  Adoramos saber que estamos contribuindo para a... 2021-03-16 13:24:28   \n",
       "10111  Olá! Muito obrigado pelo feedback positivo, es... 2021-03-16 13:24:13   \n",
       "10112  Adoramos saber que estamos contribuindo para a... 2021-03-16 13:24:03   \n",
       "10113  Obrigado pelo seu feedback! É um prazer saber ... 2021-03-16 13:23:39   \n",
       "\n",
       "      appVersion  Periodo   Periodo_normalizado  \n",
       "0        5.106.0       10  1 ano atrás ou menos  \n",
       "1        5.102.0       10  1 ano atrás ou menos  \n",
       "2        5.104.0       10  1 ano atrás ou menos  \n",
       "3        5.102.0       10  1 ano atrás ou menos  \n",
       "4        5.106.0       11  1 ano atrás ou menos  \n",
       "...          ...      ...                   ...  \n",
       "10109     2.3.03     1687          5 anos atrás  \n",
       "10110     2.3.03     1689          5 anos atrás  \n",
       "10111     2.3.03     1690          5 anos atrás  \n",
       "10112     2.3.02     1693          5 anos atrás  \n",
       "10113     2.3.02     1697          5 anos atrás  \n",
       "\n",
       "[10114 rows x 13 columns]"
      ]
     },
     "execution_count": 9,
     "metadata": {},
     "output_type": "execute_result"
    }
   ],
   "source": [
    "df_reviews['Periodo'] = (pd.to_datetime('now') - df_reviews['at']).dt.days\n",
    "\n",
    "df_reviews[\"Periodo_normalizado\"] = df_reviews.apply(lambda x : _conditions(x[\"Periodo\"]), axis=1)\n",
    "\n",
    "df_reviews"
   ]
  },
  {
   "cell_type": "code",
   "execution_count": 10,
   "id": "00b9704c",
   "metadata": {},
   "outputs": [
    {
     "data": {
      "text/plain": [
       "Periodo_normalizado\n",
       "1 ano atrás ou menos    3232\n",
       "2 anos atrás            4241\n",
       "3 anos atrás            2412\n",
       "4 anos atrás             142\n",
       "5 anos atrás              87\n",
       "Name: score, dtype: int64"
      ]
     },
     "execution_count": 10,
     "metadata": {},
     "output_type": "execute_result"
    }
   ],
   "source": [
    "df_reviews.groupby(['Periodo_normalizado'])['score'].count()"
   ]
  },
  {
   "cell_type": "markdown",
   "id": "505a0147",
   "metadata": {},
   "source": [
    "### 3 – Qual o gênero preponderante das pessoas que deixaram as reviews?"
   ]
  },
  {
   "cell_type": "code",
   "execution_count": 11,
   "id": "08d760aa",
   "metadata": {},
   "outputs": [],
   "source": [
    "# Coleta a lista de nomes do censo de 2010\n",
    "#dados disponíveis em https://brasil.io/dataset/genero-nomes/nomes/\n",
    "nomes_censo = pd.read_csv('grupos.csv', sep = ',')\n",
    "\n",
    "#Cria um dicionário de cada possibilidade de nome disponível no censo e a classificação de sexo\n",
    "classification_list = {}\n",
    "for i in nomes_censo['names']:\n",
    "    names_list = i.split(\"|\")\n",
    "    for j in names_list:\n",
    "        if j != '':\n",
    "            classification_list[j] = nomes_censo.loc[nomes_censo['names'] == i,'classification'].values[0]"
   ]
  },
  {
   "cell_type": "code",
   "execution_count": 12,
   "id": "f548d82b",
   "metadata": {},
   "outputs": [],
   "source": [
    "# Cria uma coluna no dataframe do pandas com o primeiro nome coletado dos reviews do google\n",
    "# e coloca no formato do censo de 2010\n",
    "from unicodedata import normalize\n",
    "\n",
    "df_reviews['Prim_nome_normalizado'] = df_reviews['userName'].str.normalize('NFKD').str.encode(\"ascii\", errors=\"ignore\").str.decode(\"ascii\").str.upper().str.split().str[0]"
   ]
  },
  {
   "cell_type": "code",
   "execution_count": 13,
   "id": "ddd8d468",
   "metadata": {},
   "outputs": [],
   "source": [
    "# Cria uma coluna com a classificação do sexo a partir do primeiro nome de cada usuário \n",
    "# e compara com o dicionário disponível no censo de 2010. Caso não encontre o nome, retorna S.I\n",
    "df_reviews['Gênero'] = df_reviews['Prim_nome_normalizado'].map(classification_list).fillna('S.I.')"
   ]
  },
  {
   "cell_type": "code",
   "execution_count": 14,
   "id": "38ff4a79",
   "metadata": {},
   "outputs": [
    {
     "data": {
      "text/plain": [
       "Gênero\n",
       "F       5727\n",
       "M       3468\n",
       "S.I.     919\n",
       "Name: Gênero, dtype: int64"
      ]
     },
     "execution_count": 14,
     "metadata": {},
     "output_type": "execute_result"
    }
   ],
   "source": [
    "df_reviews.groupby(['Gênero'])['Gênero'].count().sort_values(ascending=False)"
   ]
  },
  {
   "cell_type": "markdown",
   "id": "12b4d098",
   "metadata": {},
   "source": [
    "### 4 – Qual o gênero preponderante das pessoas que deixaram as reviews negativas?"
   ]
  },
  {
   "cell_type": "code",
   "execution_count": 15,
   "id": "7d871438",
   "metadata": {},
   "outputs": [],
   "source": [
    "df_reviews['Status'] = np.where(df_reviews['score']<4, 'Negativo', 'Positivo')"
   ]
  },
  {
   "cell_type": "code",
   "execution_count": 16,
   "id": "578601f0",
   "metadata": {
    "scrolled": true
   },
   "outputs": [
    {
     "data": {
      "text/plain": [
       "Status\n",
       "Positivo    9143\n",
       "Negativo     971\n",
       "Name: Status, dtype: int64"
      ]
     },
     "execution_count": 16,
     "metadata": {},
     "output_type": "execute_result"
    }
   ],
   "source": [
    "df_reviews.groupby(['Status'])['Status'].count().sort_values(ascending=False)"
   ]
  },
  {
   "cell_type": "code",
   "execution_count": 17,
   "id": "9c21b990",
   "metadata": {},
   "outputs": [
    {
     "data": {
      "text/plain": [
       "score\n",
       "1     563\n",
       "2     167\n",
       "3     241\n",
       "4     756\n",
       "5    8387\n",
       "Name: score, dtype: int64"
      ]
     },
     "execution_count": 17,
     "metadata": {},
     "output_type": "execute_result"
    }
   ],
   "source": [
    "df_reviews.groupby(['score'])['score'].count()"
   ]
  },
  {
   "cell_type": "code",
   "execution_count": 18,
   "id": "b802655d",
   "metadata": {},
   "outputs": [
    {
     "data": {
      "text/plain": [
       "Gênero\n",
       "F       472\n",
       "M       374\n",
       "S.I.    125\n",
       "Name: Gênero, dtype: int64"
      ]
     },
     "execution_count": 18,
     "metadata": {},
     "output_type": "execute_result"
    }
   ],
   "source": [
    "df_reviews.loc[df_reviews['Status'] == 'Negativo'].groupby(['Gênero'])['Gênero'].count().sort_values(ascending=False)"
   ]
  },
  {
   "cell_type": "markdown",
   "id": "354a9cbf",
   "metadata": {},
   "source": [
    "### 5 – Qual a média de reviews (estrelas) para cada gênero?"
   ]
  },
  {
   "cell_type": "code",
   "execution_count": 19,
   "id": "9ff2f257",
   "metadata": {},
   "outputs": [
    {
     "data": {
      "text/plain": [
       "Gênero\n",
       "F       4.656539\n",
       "M       4.555363\n",
       "S.I.    4.475517\n",
       "Name: score, dtype: float64"
      ]
     },
     "execution_count": 19,
     "metadata": {},
     "output_type": "execute_result"
    }
   ],
   "source": [
    "df_reviews.groupby(['Gênero'])['score'].mean()"
   ]
  },
  {
   "cell_type": "code",
   "execution_count": 29,
   "id": "f68a2a06",
   "metadata": {},
   "outputs": [
    {
     "data": {
      "text/html": [
       "<div>\n",
       "<style scoped>\n",
       "    .dataframe tbody tr th:only-of-type {\n",
       "        vertical-align: middle;\n",
       "    }\n",
       "\n",
       "    .dataframe tbody tr th {\n",
       "        vertical-align: top;\n",
       "    }\n",
       "\n",
       "    .dataframe thead th {\n",
       "        text-align: right;\n",
       "    }\n",
       "</style>\n",
       "<table border=\"1\" class=\"dataframe\">\n",
       "  <thead>\n",
       "    <tr style=\"text-align: right;\">\n",
       "      <th></th>\n",
       "      <th></th>\n",
       "      <th>mean</th>\n",
       "      <th>std</th>\n",
       "    </tr>\n",
       "    <tr>\n",
       "      <th>Gênero</th>\n",
       "      <th>Periodo_normalizado</th>\n",
       "      <th></th>\n",
       "      <th></th>\n",
       "    </tr>\n",
       "  </thead>\n",
       "  <tbody>\n",
       "    <tr>\n",
       "      <th rowspan=\"4\" valign=\"top\">F</th>\n",
       "      <th>1 ano atrás ou menos</th>\n",
       "      <td>4.624672</td>\n",
       "      <td>1.023526</td>\n",
       "    </tr>\n",
       "    <tr>\n",
       "      <th>2 anos atrás</th>\n",
       "      <td>4.654117</td>\n",
       "      <td>0.951828</td>\n",
       "    </tr>\n",
       "    <tr>\n",
       "      <th>3 anos atrás</th>\n",
       "      <td>4.734887</td>\n",
       "      <td>0.811497</td>\n",
       "    </tr>\n",
       "    <tr>\n",
       "      <th>4 anos atrás</th>\n",
       "      <td>3.375000</td>\n",
       "      <td>1.736701</td>\n",
       "    </tr>\n",
       "    <tr>\n",
       "      <th rowspan=\"4\" valign=\"top\">M</th>\n",
       "      <th>1 ano atrás ou menos</th>\n",
       "      <td>4.496815</td>\n",
       "      <td>1.181498</td>\n",
       "    </tr>\n",
       "    <tr>\n",
       "      <th>2 anos atrás</th>\n",
       "      <td>4.547523</td>\n",
       "      <td>1.093770</td>\n",
       "    </tr>\n",
       "    <tr>\n",
       "      <th>3 anos atrás</th>\n",
       "      <td>4.664311</td>\n",
       "      <td>0.936251</td>\n",
       "    </tr>\n",
       "    <tr>\n",
       "      <th>4 anos atrás</th>\n",
       "      <td>3.923077</td>\n",
       "      <td>1.695242</td>\n",
       "    </tr>\n",
       "    <tr>\n",
       "      <th rowspan=\"5\" valign=\"top\">S.I.</th>\n",
       "      <th>1 ano atrás ou menos</th>\n",
       "      <td>4.697368</td>\n",
       "      <td>0.834600</td>\n",
       "    </tr>\n",
       "    <tr>\n",
       "      <th>2 anos atrás</th>\n",
       "      <td>4.421212</td>\n",
       "      <td>1.225925</td>\n",
       "    </tr>\n",
       "    <tr>\n",
       "      <th>3 anos atrás</th>\n",
       "      <td>4.547368</td>\n",
       "      <td>1.105718</td>\n",
       "    </tr>\n",
       "    <tr>\n",
       "      <th>4 anos atrás</th>\n",
       "      <td>4.238095</td>\n",
       "      <td>1.340914</td>\n",
       "    </tr>\n",
       "    <tr>\n",
       "      <th>5 anos atrás</th>\n",
       "      <td>4.172414</td>\n",
       "      <td>1.348616</td>\n",
       "    </tr>\n",
       "  </tbody>\n",
       "</table>\n",
       "</div>"
      ],
      "text/plain": [
       "                                 mean       std\n",
       "Gênero Periodo_normalizado                     \n",
       "F      1 ano atrás ou menos  4.624672  1.023526\n",
       "       2 anos atrás          4.654117  0.951828\n",
       "       3 anos atrás          4.734887  0.811497\n",
       "       4 anos atrás          3.375000  1.736701\n",
       "M      1 ano atrás ou menos  4.496815  1.181498\n",
       "       2 anos atrás          4.547523  1.093770\n",
       "       3 anos atrás          4.664311  0.936251\n",
       "       4 anos atrás          3.923077  1.695242\n",
       "S.I.   1 ano atrás ou menos  4.697368  0.834600\n",
       "       2 anos atrás          4.421212  1.225925\n",
       "       3 anos atrás          4.547368  1.105718\n",
       "       4 anos atrás          4.238095  1.340914\n",
       "       5 anos atrás          4.172414  1.348616"
      ]
     },
     "execution_count": 29,
     "metadata": {},
     "output_type": "execute_result"
    }
   ],
   "source": [
    "df_reviews.groupby(['Gênero','Periodo_normalizado'])['score'].agg(['mean','std'])"
   ]
  },
  {
   "cell_type": "code",
   "execution_count": 28,
   "id": "7d4b5fe6",
   "metadata": {},
   "outputs": [
    {
     "data": {
      "text/html": [
       "<div>\n",
       "<style scoped>\n",
       "    .dataframe tbody tr th:only-of-type {\n",
       "        vertical-align: middle;\n",
       "    }\n",
       "\n",
       "    .dataframe tbody tr th {\n",
       "        vertical-align: top;\n",
       "    }\n",
       "\n",
       "    .dataframe thead th {\n",
       "        text-align: right;\n",
       "    }\n",
       "</style>\n",
       "<table border=\"1\" class=\"dataframe\">\n",
       "  <thead>\n",
       "    <tr style=\"text-align: right;\">\n",
       "      <th></th>\n",
       "      <th>mean</th>\n",
       "      <th>std</th>\n",
       "    </tr>\n",
       "    <tr>\n",
       "      <th>Gênero</th>\n",
       "      <th></th>\n",
       "      <th></th>\n",
       "    </tr>\n",
       "  </thead>\n",
       "  <tbody>\n",
       "    <tr>\n",
       "      <th>F</th>\n",
       "      <td>4.656539</td>\n",
       "      <td>0.956933</td>\n",
       "    </tr>\n",
       "    <tr>\n",
       "      <th>M</th>\n",
       "      <td>4.555363</td>\n",
       "      <td>1.095178</td>\n",
       "    </tr>\n",
       "    <tr>\n",
       "      <th>S.I.</th>\n",
       "      <td>4.475517</td>\n",
       "      <td>1.150542</td>\n",
       "    </tr>\n",
       "  </tbody>\n",
       "</table>\n",
       "</div>"
      ],
      "text/plain": [
       "            mean       std\n",
       "Gênero                    \n",
       "F       4.656539  0.956933\n",
       "M       4.555363  1.095178\n",
       "S.I.    4.475517  1.150542"
      ]
     },
     "execution_count": 28,
     "metadata": {},
     "output_type": "execute_result"
    }
   ],
   "source": [
    "df_reviews.groupby(['Gênero'])['score'].agg(['mean','std'])"
   ]
  },
  {
   "cell_type": "markdown",
   "id": "fa6860ad",
   "metadata": {},
   "source": [
    "### 6 – Como se comporta a distribuição das avaliações positivas e negativas no decorrer dos anos?"
   ]
  },
  {
   "cell_type": "code",
   "execution_count": 22,
   "id": "1f7b8454",
   "metadata": {},
   "outputs": [
    {
     "data": {
      "text/html": [
       "<div>\n",
       "<style scoped>\n",
       "    .dataframe tbody tr th:only-of-type {\n",
       "        vertical-align: middle;\n",
       "    }\n",
       "\n",
       "    .dataframe tbody tr th {\n",
       "        vertical-align: top;\n",
       "    }\n",
       "\n",
       "    .dataframe thead th {\n",
       "        text-align: right;\n",
       "    }\n",
       "</style>\n",
       "<table border=\"1\" class=\"dataframe\">\n",
       "  <thead>\n",
       "    <tr style=\"text-align: right;\">\n",
       "      <th></th>\n",
       "      <th>mean</th>\n",
       "      <th>std</th>\n",
       "    </tr>\n",
       "    <tr>\n",
       "      <th>Periodo_normalizado</th>\n",
       "      <th></th>\n",
       "      <th></th>\n",
       "    </tr>\n",
       "  </thead>\n",
       "  <tbody>\n",
       "    <tr>\n",
       "      <th>1 ano atrás ou menos</th>\n",
       "      <td>4.586324</td>\n",
       "      <td>1.070108</td>\n",
       "    </tr>\n",
       "    <tr>\n",
       "      <th>2 anos atrás</th>\n",
       "      <td>4.598444</td>\n",
       "      <td>1.029191</td>\n",
       "    </tr>\n",
       "    <tr>\n",
       "      <th>3 anos atrás</th>\n",
       "      <td>4.695274</td>\n",
       "      <td>0.884219</td>\n",
       "    </tr>\n",
       "    <tr>\n",
       "      <th>4 anos atrás</th>\n",
       "      <td>3.985915</td>\n",
       "      <td>1.534409</td>\n",
       "    </tr>\n",
       "    <tr>\n",
       "      <th>5 anos atrás</th>\n",
       "      <td>4.172414</td>\n",
       "      <td>1.348616</td>\n",
       "    </tr>\n",
       "  </tbody>\n",
       "</table>\n",
       "</div>"
      ],
      "text/plain": [
       "                          mean       std\n",
       "Periodo_normalizado                     \n",
       "1 ano atrás ou menos  4.586324  1.070108\n",
       "2 anos atrás          4.598444  1.029191\n",
       "3 anos atrás          4.695274  0.884219\n",
       "4 anos atrás          3.985915  1.534409\n",
       "5 anos atrás          4.172414  1.348616"
      ]
     },
     "execution_count": 22,
     "metadata": {},
     "output_type": "execute_result"
    }
   ],
   "source": [
    "df_reviews.groupby(['Periodo_normalizado'])['score'].agg(['mean','std'])"
   ]
  },
  {
   "cell_type": "markdown",
   "id": "42641e83",
   "metadata": {},
   "source": [
    "### 7 – Quais foram os comentários negativos mais citados e qual a sua frequência?"
   ]
  },
  {
   "cell_type": "code",
   "execution_count": 23,
   "id": "9472658b",
   "metadata": {},
   "outputs": [],
   "source": [
    "# eliminar as colunas com valores ausentes\n",
    "#summary = df_reviews.loc[df_reviews['Status'] == 'Negativo'].dropna(subset=['Review'], axis=0)['Review']\n",
    "\n",
    "from unicodedata import normalize\n",
    "\n",
    "summary = df_reviews.loc[df_reviews['Status'] == 'Negativo'].dropna(subset=['content'], axis=0)['content'].str.normalize('NFKD').str.encode(\"ascii\", errors=\"ignore\").str.decode(\"ascii\").str.lower()\n",
    "#summary"
   ]
  },
  {
   "cell_type": "code",
   "execution_count": 24,
   "id": "b36d8564",
   "metadata": {},
   "outputs": [],
   "source": [
    "#'https://gist.github.com/alopes/5358189#file-stopwords-txt'\n",
    "# https://gist.github.com/alopes/5358189?permalink_comment_id=3477894#gistcomment-3477894\n",
    "stopwords_portugues = pd.Series(['...', 'a', 'à', 'pra', 'adeus', 'agora', 'aí', 'ainda', 'além', 'algo', 'alguém', 'algum', 'alguma', 'algumas', 'alguns', 'ali', 'ampla', 'amplas', 'amplo', 'amplos', 'ano', 'anos', 'ante', 'antes', 'ao', 'aos', 'apenas', 'apoio', 'após', 'aquela', 'aquelas', 'aquele', 'aqueles', 'aqui', 'aquilo', 'área', 'as', 'às', 'assim', 'até', 'atrás', 'através', 'baixo', 'bastante', 'bem', 'boa', 'boas', 'bom', 'bons', 'breve', 'cá', 'cada', 'catorze', 'cedo', 'cento', 'certamente', 'certeza', 'cima', 'cinco', 'coisa', 'coisas', 'com', 'como', 'conselho', 'contra', 'contudo', 'custa', 'da', 'dá', 'dão', 'daquela', 'daquelas', 'daquele', 'daqueles', 'dar', 'das', 'de', 'debaixo', 'dela', 'delas', 'dele', 'deles', 'demais', 'dentro', 'depois', 'desde', 'dessa', 'dessas', 'desse', 'desses', 'desta', 'destas', 'deste', 'destes', 'deve', 'devem', 'devendo', 'dever', 'deverá', 'deverão', 'deveria', 'deveriam', 'devia', 'deviam', 'dez', 'dezanove', 'dezasseis', 'dezassete', 'dezoito', 'dia', 'diante', 'disse', 'disso', 'disto', 'dito', 'diz', 'dizem', 'dizer', 'do', 'dois', 'dos', 'doze', 'duas', 'dúvida', 'e', 'é', 'ela', 'elas', 'ele', 'eles', 'em', 'embora', 'enquanto', 'entre', 'era', 'eram', 'éramos', 'és', 'essa', 'essas', 'esse', 'esses', 'esta', 'está', 'estamos', 'estão', 'estar', 'estas', 'estás', 'estava', 'estavam', 'estávamos', 'este', 'esteja', 'estejam', 'estejamos', 'estes', 'esteve', 'estive', 'estivemos', 'estiver', 'estivera', 'estiveram', 'estivéramos', 'estiverem', 'estivermos', 'estivesse', 'estivessem', 'estivéssemos', 'estiveste', 'estivestes', 'estou', 'etc', 'eu', 'exemplo', 'faço', 'falta', 'favor', 'faz', 'fazeis', 'fazem', 'fazemos', 'fazendo', 'fazer', 'fazes', 'feita', 'feitas', 'feito', 'feitos', 'fez', 'fim', 'final', 'foi', 'fomos', 'for', 'fora', 'foram', 'fôramos', 'forem', 'forma', 'formos', 'fosse', 'fossem', 'fôssemos', 'foste', 'fostes', 'fui', 'geral', 'grande', 'grandes', 'grupo', 'há', 'haja', 'hajam', 'hajamos', 'hão', 'havemos', 'havia', 'hei', 'hoje', 'hora', 'horas', 'houve', 'houvemos', 'houver', 'houvera', 'houverá', 'houveram', 'houvéramos', 'houverão', 'houverei', 'houverem', 'houveremos', 'houveria', 'houveriam', 'houveríamos', 'houvermos', 'houvesse', 'houvessem', 'houvéssemos', 'isso', 'isto', 'já', 'la', 'lá', 'lado', 'lhe', 'lhes', 'lo', 'local', 'logo', 'longe', 'lugar', 'maior', 'maioria', 'mais', 'mal', 'mas', 'máximo', 'me', 'meio', 'menor', 'menos', 'mês', 'meses', 'mesma', 'mesmas', 'mesmo', 'mesmos', 'meu', 'meus', 'mil', 'minha', 'minhas', 'momento', 'muita', 'muitas', 'muito', 'muitos', 'na', 'nada', 'não', 'naquela', 'naquelas', 'naquele', 'naqueles', 'nas', 'nem', 'nenhum', 'nenhuma', 'nessa', 'nessas', 'nesse', 'nesses', 'nesta', 'nestas', 'neste', 'nestes', 'ninguém', 'nível', 'no', 'noite', 'nome', 'nos', 'nós', 'nossa', 'nossas', 'nosso', 'nossos', 'nova', 'novas', 'nove', 'novo', 'novos', 'num', 'numa', 'número', 'nunca', 'o', 'obra', 'obrigada', 'obrigado', 'oitava', 'oitavo', 'oito', 'onde', 'ontem', 'onze', 'os', 'ou', 'outra', 'outras', 'outro', 'outros', 'para', 'parece', 'parte', 'partir', 'paucas', 'pela', 'pelas', 'pelo', 'pelos', 'pequena', 'pequenas', 'pequeno', 'pequenos', 'per', 'perante', 'perto', 'pode', 'pude', 'pôde', 'podem', 'podendo', 'poder', 'poderia', 'poderiam', 'podia', 'podiam', 'põe', 'põem', 'pois', 'ponto', 'pontos', 'por', 'porém', 'porque', 'porquê', 'posição', 'possível', 'possivelmente', 'posso', 'pouca', 'poucas', 'pouco', 'poucos', 'primeira', 'primeiras', 'primeiro', 'primeiros', 'própria', 'próprias', 'próprio', 'próprios', 'próxima', 'próximas', 'próximo', 'próximos', 'pude', 'puderam', 'quais', 'quáis', 'qual', 'quando', 'quanto', 'quantos', 'quarta', 'quarto', 'quatro', 'que', 'quê', 'quem', 'quer', 'quereis', 'querem', 'queremas', 'queres', 'quero', 'questão', 'quinta', 'quinto', 'quinze', 'relação', 'sabe', 'sabem', 'são', 'se', 'segunda', 'segundo', 'sei', 'seis', 'seja', 'sejam', 'sejamos', 'sem', 'sempre', 'sendo', 'ser', 'será', 'serão', 'serei', 'seremos', 'seria', 'seriam', 'seríamos', 'sete', 'sétima', 'sétimo', 'seu', 'seus', 'sexta', 'sexto', 'si', 'sido', 'sim', 'sistema', 'só', 'sob', 'sobre', 'sois', 'somos', 'sou', 'sua', 'suas', 'tal', 'talvez', 'também', 'tampouco', 'tanta', 'tantas', 'tanto', 'tão', 'tarde', 'te', 'tem', 'tém', 'têm', 'temos', 'tendes', 'tendo', 'tenha', 'tenham', 'tenhamos', 'tenho', 'tens', 'ter', 'terá', 'terão', 'terceira', 'terceiro', 'terei', 'teremos', 'teria', 'teriam', 'teríamos', 'teu', 'teus', 'teve', 'ti', 'tido', 'tinha', 'tinham', 'tínhamos', 'tive', 'tivemos', 'tiver', 'tivera', 'tiveram', 'tivéramos', 'tiverem', 'tivermos', 'tivesse', 'tivessem', 'tivéssemos', 'tiveste', 'tivestes', 'toda', 'todas', 'todavia', 'todo', 'todos', 'trabalho', 'três', 'treze', 'tu', 'tua', 'tuas', 'tudo', 'última', 'últimas', 'último', 'últimos', 'um', 'uma', 'umas', 'uns', 'vai', 'vais', 'vão', 'vários', 'vem', 'vêm', 'vendo', 'vens', 'ver', 'vez', 'vezes', 'viagem', 'vindo', 'vinte', 'vir', 'você', 'vocês', 'vos', 'vós', 'vossa', 'vossas', 'vosso', 'vossos', 'zero', '1', '2', '3', '4', '5', '6', '7', '8', '9', '0', '_' ,\n",
    "                      'Doctoralia']).str.normalize('NFKD').str.encode(\"ascii\", errors=\"ignore\").str.decode(\"ascii\").str.lower().drop_duplicates()"
   ]
  },
  {
   "cell_type": "code",
   "execution_count": 25,
   "id": "d5d0bd0f",
   "metadata": {},
   "outputs": [],
   "source": [
    "# concatenar as palavras\n",
    "all_summary = \" \".join(s for s in summary)\n",
    "\n",
    "# Retirando outros caracteres especiais\n",
    "all_summary = all_summary.replace(',','')\n",
    "all_summary = all_summary.replace(';','')\n",
    "all_summary = all_summary.replace('!','')\n",
    "all_summary = all_summary.replace(':','')\n",
    "all_summary = all_summary.replace('.','')\n",
    "all_summary = all_summary.replace('\"','')\n",
    "all_summary = all_summary.replace('(','')\n",
    "all_summary = all_summary.replace(')','')\n",
    "\n",
    "# Normalizando palavras gerais\n",
    "all_summary = all_summary.replace('medicos','medico')\n",
    "all_summary = all_summary.replace('medicas','medico')\n",
    "all_summary = all_summary.replace('medica','medico')\n",
    "all_summary = all_summary.replace('app','aplicativo')\n",
    "all_summary = all_summary.replace('plano','convenio')\n",
    "all_summary = all_summary.replace('avaliacoes','avaliacao')\n",
    "all_summary = all_summary.replace('consultas','consulta')\n",
    "all_summary = all_summary.replace('pacientes','paciente')\n",
    "all_summary = all_summary.replace('servicos','servico')\n",
    "all_summary = all_summary.replace('profissionais','profissional')\n",
    "all_summary = all_summary.replace('opinioes','opiniao')\n",
    "all_summary = all_summary.replace('opnioes','opiniao')\n",
    "all_summary = all_summary.replace('opniao','opiniao')\n",
    "\n",
    "# lista de stopword\n",
    "#stopwords = set(STOPWORDS)\n",
    "stopwords = stopwords_portugues\n",
    "#stopwords.update(stopwords_portugues)"
   ]
  },
  {
   "cell_type": "code",
   "execution_count": 26,
   "id": "42c8b1bb",
   "metadata": {},
   "outputs": [
    {
     "data": {
      "text/plain": [
       "Palavras\n",
       "aplicativo      627\n",
       "consulta        309\n",
       "medico          299\n",
       "convenio        175\n",
       "consigo         130\n",
       "site             98\n",
       "profissional     92\n",
       "marcar           90\n",
       "mensagem         73\n",
       "pessimo          67\n",
       "fica             63\n",
       "ruim             57\n",
       "avaliacao        57\n",
       "senha            55\n",
       "funciona         54\n",
       "usar             53\n",
       "entrar           45\n",
       "filtro           44\n",
       "consegui         43\n",
       "login            42\n",
       "Name: Palavras, dtype: int64"
      ]
     },
     "execution_count": 26,
     "metadata": {},
     "output_type": "execute_result"
    }
   ],
   "source": [
    "palavras = all_summary.split()\n",
    "\n",
    "df_palavras = pd.DataFrame(palavras, columns = ['Palavras'])\n",
    "\n",
    "df_palavras_tratadas =  df_palavras[~df_palavras.Palavras.isin(stopwords_portugues)].groupby(by = 'Palavras')['Palavras'].count().sort_values(ascending=False)\n",
    "df_palavras_tratadas.head(20)"
   ]
  },
  {
   "cell_type": "code",
   "execution_count": 27,
   "id": "4c2ec478",
   "metadata": {},
   "outputs": [
    {
     "data": {
      "text/plain": [
       "'\\n# gerar uma wordcloud\\nwordcloud = WordCloud(stopwords=stopwords,\\n                      background_color=\"black\",\\n                      width=1600, height=800,normalize_plurals=False).generate(all_summary)\\n# mostrar a imagem final\\nfig, ax = plt.subplots(figsize=(10,6))\\nax.imshow(wordcloud, interpolation=\\'bilinear\\')\\nax.set_axis_off()\\nplt.imshow(wordcloud);\\nwordcloud.to_file(\"summary_wordcloud.png\")\\n'"
      ]
     },
     "execution_count": 27,
     "metadata": {},
     "output_type": "execute_result"
    }
   ],
   "source": [
    "'''\n",
    "# gerar uma wordcloud\n",
    "wordcloud = WordCloud(stopwords=stopwords,\n",
    "                      background_color=\"black\",\n",
    "                      width=1600, height=800,normalize_plurals=False).generate(all_summary)\n",
    "# mostrar a imagem final\n",
    "fig, ax = plt.subplots(figsize=(10,6))\n",
    "ax.imshow(wordcloud, interpolation='bilinear')\n",
    "ax.set_axis_off()\n",
    "plt.imshow(wordcloud);\n",
    "wordcloud.to_file(\"summary_wordcloud.png\")\n",
    "'''"
   ]
  },
  {
   "cell_type": "code",
   "execution_count": null,
   "id": "8778c290",
   "metadata": {},
   "outputs": [],
   "source": []
  }
 ],
 "metadata": {
  "kernelspec": {
   "display_name": "Python 3 (ipykernel)",
   "language": "python",
   "name": "python3"
  },
  "language_info": {
   "codemirror_mode": {
    "name": "ipython",
    "version": 3
   },
   "file_extension": ".py",
   "mimetype": "text/x-python",
   "name": "python",
   "nbconvert_exporter": "python",
   "pygments_lexer": "ipython3",
   "version": "3.9.7"
  }
 },
 "nbformat": 4,
 "nbformat_minor": 5
}
