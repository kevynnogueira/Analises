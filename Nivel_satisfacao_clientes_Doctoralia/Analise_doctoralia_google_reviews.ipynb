{
 "cells": [
  {
   "cell_type": "code",
   "execution_count": 1,
   "id": "6afd7e64",
   "metadata": {},
   "outputs": [],
   "source": [
    "import pandas as pd\n",
    "import numpy as np"
   ]
  },
  {
   "cell_type": "code",
   "execution_count": 2,
   "id": "480b99d1",
   "metadata": {},
   "outputs": [
    {
     "data": {
      "text/html": [
       "<div>\n",
       "<style scoped>\n",
       "    .dataframe tbody tr th:only-of-type {\n",
       "        vertical-align: middle;\n",
       "    }\n",
       "\n",
       "    .dataframe tbody tr th {\n",
       "        vertical-align: top;\n",
       "    }\n",
       "\n",
       "    .dataframe thead th {\n",
       "        text-align: right;\n",
       "    }\n",
       "</style>\n",
       "<table border=\"1\" class=\"dataframe\">\n",
       "  <thead>\n",
       "    <tr style=\"text-align: right;\">\n",
       "      <th></th>\n",
       "      <th>Usuário</th>\n",
       "      <th>Gênero</th>\n",
       "      <th>Avaliação (estrelas)</th>\n",
       "      <th>Status</th>\n",
       "      <th>Periodo</th>\n",
       "      <th>Review</th>\n",
       "    </tr>\n",
       "  </thead>\n",
       "  <tbody>\n",
       "    <tr>\n",
       "      <th>0</th>\n",
       "      <td>Mayara Thays Beckhauser</td>\n",
       "      <td>Feminino</td>\n",
       "      <td>1</td>\n",
       "      <td>Negativo</td>\n",
       "      <td>1 ano atrás ou menos</td>\n",
       "      <td>Faço das palavras das muitas reclamações, as m...</td>\n",
       "    </tr>\n",
       "    <tr>\n",
       "      <th>1</th>\n",
       "      <td>Wendy Evangelista</td>\n",
       "      <td>Feminino</td>\n",
       "      <td>1</td>\n",
       "      <td>Negativo</td>\n",
       "      <td>1 ano atrás ou menos</td>\n",
       "      <td>Péssimo para os profissionais que contratam!!!...</td>\n",
       "    </tr>\n",
       "    <tr>\n",
       "      <th>2</th>\n",
       "      <td>Lidia Izeppe</td>\n",
       "      <td>Feminino</td>\n",
       "      <td>1</td>\n",
       "      <td>Negativo</td>\n",
       "      <td>1 ano atrás ou menos</td>\n",
       "      <td>Só pense muuuuito bem antes de assinar o contr...</td>\n",
       "    </tr>\n",
       "    <tr>\n",
       "      <th>3</th>\n",
       "      <td>Ana Vitoria</td>\n",
       "      <td>Feminino</td>\n",
       "      <td>1</td>\n",
       "      <td>Negativo</td>\n",
       "      <td>1 ano atrás ou menos</td>\n",
       "      <td>diz que o medico atende para meu plano de saúd...</td>\n",
       "    </tr>\n",
       "    <tr>\n",
       "      <th>4</th>\n",
       "      <td>Gertrudes Boska</td>\n",
       "      <td>Feminino</td>\n",
       "      <td>5</td>\n",
       "      <td>Positivo</td>\n",
       "      <td>1 ano atrás ou menos</td>\n",
       "      <td>Como não encontrei um local especifico para a ...</td>\n",
       "    </tr>\n",
       "    <tr>\n",
       "      <th>...</th>\n",
       "      <td>...</td>\n",
       "      <td>...</td>\n",
       "      <td>...</td>\n",
       "      <td>...</td>\n",
       "      <td>...</td>\n",
       "      <td>...</td>\n",
       "    </tr>\n",
       "    <tr>\n",
       "      <th>1135</th>\n",
       "      <td>Pamela Vidolin</td>\n",
       "      <td>Feminino</td>\n",
       "      <td>5</td>\n",
       "      <td>Positivo</td>\n",
       "      <td>5 anos atrás</td>\n",
       "      <td>NaN</td>\n",
       "    </tr>\n",
       "    <tr>\n",
       "      <th>1136</th>\n",
       "      <td>Anna Paula Jorge</td>\n",
       "      <td>Feminino</td>\n",
       "      <td>5</td>\n",
       "      <td>Positivo</td>\n",
       "      <td>5 anos atrás</td>\n",
       "      <td>NaN</td>\n",
       "    </tr>\n",
       "    <tr>\n",
       "      <th>1137</th>\n",
       "      <td>Mariana Urio</td>\n",
       "      <td>Feminino</td>\n",
       "      <td>5</td>\n",
       "      <td>Positivo</td>\n",
       "      <td>5 anos atrás</td>\n",
       "      <td>NaN</td>\n",
       "    </tr>\n",
       "    <tr>\n",
       "      <th>1138</th>\n",
       "      <td>Willian Viana</td>\n",
       "      <td>Masculino</td>\n",
       "      <td>1</td>\n",
       "      <td>Negativo</td>\n",
       "      <td>5 anos atrás</td>\n",
       "      <td>NaN</td>\n",
       "    </tr>\n",
       "    <tr>\n",
       "      <th>1139</th>\n",
       "      <td>Joao Favero</td>\n",
       "      <td>Masculino</td>\n",
       "      <td>5</td>\n",
       "      <td>Positivo</td>\n",
       "      <td>5 anos atrás</td>\n",
       "      <td>NaN</td>\n",
       "    </tr>\n",
       "  </tbody>\n",
       "</table>\n",
       "<p>1140 rows × 6 columns</p>\n",
       "</div>"
      ],
      "text/plain": [
       "                      Usuário     Gênero  Avaliação (estrelas)    Status  \\\n",
       "0     Mayara Thays Beckhauser   Feminino                     1  Negativo   \n",
       "1           Wendy Evangelista   Feminino                     1  Negativo   \n",
       "2                Lidia Izeppe   Feminino                     1  Negativo   \n",
       "3                 Ana Vitoria   Feminino                     1  Negativo   \n",
       "4             Gertrudes Boska   Feminino                     5  Positivo   \n",
       "...                       ...        ...                   ...       ...   \n",
       "1135           Pamela Vidolin   Feminino                     5  Positivo   \n",
       "1136         Anna Paula Jorge   Feminino                     5  Positivo   \n",
       "1137             Mariana Urio   Feminino                     5  Positivo   \n",
       "1138            Willian Viana  Masculino                     1  Negativo   \n",
       "1139              Joao Favero  Masculino                     5  Positivo   \n",
       "\n",
       "                   Periodo                                             Review  \n",
       "0     1 ano atrás ou menos  Faço das palavras das muitas reclamações, as m...  \n",
       "1     1 ano atrás ou menos  Péssimo para os profissionais que contratam!!!...  \n",
       "2     1 ano atrás ou menos  Só pense muuuuito bem antes de assinar o contr...  \n",
       "3     1 ano atrás ou menos  diz que o medico atende para meu plano de saúd...  \n",
       "4     1 ano atrás ou menos  Como não encontrei um local especifico para a ...  \n",
       "...                    ...                                                ...  \n",
       "1135          5 anos atrás                                                NaN  \n",
       "1136          5 anos atrás                                                NaN  \n",
       "1137          5 anos atrás                                                NaN  \n",
       "1138          5 anos atrás                                                NaN  \n",
       "1139          5 anos atrás                                                NaN  \n",
       "\n",
       "[1140 rows x 6 columns]"
      ]
     },
     "execution_count": 2,
     "metadata": {},
     "output_type": "execute_result"
    }
   ],
   "source": [
    "df_reviews = pd.read_excel('data_analysis_reviews_doctoralia.xlsx')\n",
    "df_reviews"
   ]
  },
  {
   "cell_type": "markdown",
   "id": "f336607e",
   "metadata": {},
   "source": [
    "Quais perguntas de negócios queremos investigar:\n",
    "\n",
    "1 – Qual a média das avaliações (estrelas) dos usuários em relação a empresa pesquisada? <br>\n",
    "2 – Quantas reviews a empresa pesquisada recebeu em cada ano? <br>\n",
    "3 – Qual o gênero preponderante das pessoas que deixaram as reviews? <br>\n",
    "4 – Qual o gênero preponderante das pessoas que deixaram as reviews negativas? <br>\n",
    "5 – Qual a média de reviews (estrelas) para cada gênero? <br>\n",
    "6 – Como se comporta a distribuição das avaliações positivas e negativas no decorrer dos anos? <br>\n",
    "7 – Quais foram os comentários negativos mais citados e qual a sua frequência?"
   ]
  },
  {
   "cell_type": "markdown",
   "id": "180555fa",
   "metadata": {},
   "source": [
    "# Análise da base"
   ]
  },
  {
   "cell_type": "code",
   "execution_count": 3,
   "id": "f81a27a2",
   "metadata": {},
   "outputs": [
    {
     "name": "stdout",
     "output_type": "stream",
     "text": [
      "<class 'pandas.core.frame.DataFrame'>\n",
      "RangeIndex: 1140 entries, 0 to 1139\n",
      "Data columns (total 6 columns):\n",
      " #   Column                Non-Null Count  Dtype \n",
      "---  ------                --------------  ----- \n",
      " 0   Usuário               1140 non-null   object\n",
      " 1   Gênero                1140 non-null   object\n",
      " 2   Avaliação (estrelas)  1140 non-null   int64 \n",
      " 3   Status                1140 non-null   object\n",
      " 4   Periodo               1140 non-null   object\n",
      " 5   Review                464 non-null    object\n",
      "dtypes: int64(1), object(5)\n",
      "memory usage: 53.6+ KB\n"
     ]
    }
   ],
   "source": [
    "df_reviews.info()"
   ]
  },
  {
   "cell_type": "code",
   "execution_count": 4,
   "id": "af5d635f",
   "metadata": {},
   "outputs": [
    {
     "data": {
      "text/plain": [
       "0       1 ano atrás ou menos\n",
       "56              2 anos atrás\n",
       "74              3 anos atrás\n",
       "214             4 anos atrás\n",
       "1124            5 anos atrás\n",
       "Name: Periodo, dtype: object"
      ]
     },
     "execution_count": 4,
     "metadata": {},
     "output_type": "execute_result"
    }
   ],
   "source": [
    "periodos = df_reviews['Periodo'].drop_duplicates()\n",
    "periodos"
   ]
  },
  {
   "cell_type": "code",
   "execution_count": 5,
   "id": "e9e6a435",
   "metadata": {},
   "outputs": [
    {
     "data": {
      "text/plain": [
       "1137"
      ]
     },
     "execution_count": 5,
     "metadata": {},
     "output_type": "execute_result"
    }
   ],
   "source": [
    "qtd_nomes_usuario = len(df_reviews['Usuário'].drop_duplicates())\n",
    "qtd_nomes_usuario"
   ]
  },
  {
   "cell_type": "code",
   "execution_count": 6,
   "id": "336a13a7",
   "metadata": {},
   "outputs": [
    {
     "data": {
      "text/plain": [
       "48     Breno Silveira\n",
       "396    Rafael Almeida\n",
       "554    Leonardo Silva\n",
       "Name: Usuário, dtype: object"
      ]
     },
     "execution_count": 6,
     "metadata": {},
     "output_type": "execute_result"
    }
   ],
   "source": [
    "#df_usuarios_repetidos = df_reviews['Usuário'].duplicated()\n",
    "df_usuarios_repetidos = df_reviews[df_reviews['Usuário'].duplicated()]['Usuário']\n",
    "df_usuarios_repetidos"
   ]
  },
  {
   "cell_type": "markdown",
   "id": "87697652",
   "metadata": {},
   "source": [
    "Aparentemente há 3 usuários com mais de uma avaliação. Poderia confirmar avaliando o link para o perfil pessoal. Se o perfil é igual, então são as mesmas pessoas."
   ]
  },
  {
   "cell_type": "markdown",
   "id": "6886084a",
   "metadata": {},
   "source": [
    "### 1 – Qual a média das avaliações (estrelas) dos usuários em relação a empresa pesquisada? <br>"
   ]
  },
  {
   "cell_type": "code",
   "execution_count": 7,
   "id": "1ce24313",
   "metadata": {},
   "outputs": [
    {
     "data": {
      "text/plain": [
       "4.753508771929824"
      ]
     },
     "execution_count": 7,
     "metadata": {},
     "output_type": "execute_result"
    }
   ],
   "source": [
    "media_estrelas = df_reviews['Avaliação (estrelas)'].mean()\n",
    "media_estrelas"
   ]
  },
  {
   "cell_type": "code",
   "execution_count": 8,
   "id": "ddb03078",
   "metadata": {},
   "outputs": [
    {
     "data": {
      "text/plain": [
       "0.8798475229624156"
      ]
     },
     "execution_count": 8,
     "metadata": {},
     "output_type": "execute_result"
    }
   ],
   "source": [
    "std_estrelas = df_reviews['Avaliação (estrelas)'].std()\n",
    "std_estrelas"
   ]
  },
  {
   "cell_type": "code",
   "execution_count": 9,
   "id": "c806f44b",
   "metadata": {},
   "outputs": [],
   "source": [
    "df_reviews['Status_review'] = np.where(df_reviews['Review'].isnull(), 'Nulo', 'Não nulo')\n",
    "#df_reviews"
   ]
  },
  {
   "cell_type": "code",
   "execution_count": 10,
   "id": "2965eda4",
   "metadata": {},
   "outputs": [
    {
     "data": {
      "text/plain": [
       "Status_review\n",
       "Nulo        4.897929\n",
       "Não nulo    4.543103\n",
       "Name: Avaliação (estrelas), dtype: float64"
      ]
     },
     "execution_count": 10,
     "metadata": {},
     "output_type": "execute_result"
    }
   ],
   "source": [
    "df_reviews.groupby(['Status_review'])['Avaliação (estrelas)'].mean()"
   ]
  },
  {
   "cell_type": "markdown",
   "id": "d07956b7",
   "metadata": {},
   "source": [
    "Não parece haver uma diferença significativa entre as pontuações das avaliações nulas e não nulas."
   ]
  },
  {
   "cell_type": "markdown",
   "id": "5438f9e4",
   "metadata": {},
   "source": [
    "### 2 – Quantas reviews a empresa pesquisada recebeu em cada ano?"
   ]
  },
  {
   "cell_type": "code",
   "execution_count": 11,
   "id": "00b9704c",
   "metadata": {},
   "outputs": [
    {
     "data": {
      "text/plain": [
       "Periodo\n",
       "1 ano atrás ou menos     56\n",
       "2 anos atrás             18\n",
       "3 anos atrás            140\n",
       "4 anos atrás            910\n",
       "5 anos atrás             16\n",
       "Name: Avaliação (estrelas), dtype: int64"
      ]
     },
     "execution_count": 11,
     "metadata": {},
     "output_type": "execute_result"
    }
   ],
   "source": [
    "df_reviews.groupby(['Periodo'])['Avaliação (estrelas)'].count()"
   ]
  },
  {
   "cell_type": "markdown",
   "id": "81a4a8b5",
   "metadata": {},
   "source": [
    "A quantidade para 5 anos está incompleta considerando que o Google Maps não consegue carregar avaliações mais antigas."
   ]
  },
  {
   "cell_type": "code",
   "execution_count": 12,
   "id": "8d5dce35",
   "metadata": {
    "scrolled": true
   },
   "outputs": [
    {
     "data": {
      "text/plain": [
       "Status_review  Periodo             \n",
       "Nulo           1 ano atrás ou menos     20\n",
       "               2 anos atrás              5\n",
       "               3 anos atrás             60\n",
       "               4 anos atrás            581\n",
       "               5 anos atrás             10\n",
       "Não nulo       1 ano atrás ou menos     36\n",
       "               2 anos atrás             13\n",
       "               3 anos atrás             80\n",
       "               4 anos atrás            329\n",
       "               5 anos atrás              6\n",
       "Name: Avaliação (estrelas), dtype: int64"
      ]
     },
     "execution_count": 12,
     "metadata": {},
     "output_type": "execute_result"
    }
   ],
   "source": [
    "df_reviews.groupby(['Status_review','Periodo'])['Avaliação (estrelas)'].count()"
   ]
  },
  {
   "cell_type": "markdown",
   "id": "505a0147",
   "metadata": {},
   "source": [
    "### 3 – Qual o gênero preponderante das pessoas que deixaram as reviews?"
   ]
  },
  {
   "cell_type": "code",
   "execution_count": 13,
   "id": "38ff4a79",
   "metadata": {},
   "outputs": [
    {
     "data": {
      "text/plain": [
       "Gênero\n",
       "Feminino                   605\n",
       "Masculino                  474\n",
       "Pessoa Jurídica             42\n",
       "Gênero não identificado     19\n",
       "Name: Gênero, dtype: int64"
      ]
     },
     "execution_count": 13,
     "metadata": {},
     "output_type": "execute_result"
    }
   ],
   "source": [
    "df_reviews.groupby(['Gênero'])['Gênero'].count().sort_values(ascending=False)"
   ]
  },
  {
   "cell_type": "code",
   "execution_count": 14,
   "id": "a5dffb3f",
   "metadata": {},
   "outputs": [
    {
     "data": {
      "text/plain": [
       "Gênero                   Status_review\n",
       "Feminino                 Nulo             333\n",
       "                         Não nulo         272\n",
       "Gênero não identificado  Nulo               8\n",
       "                         Não nulo          11\n",
       "Masculino                Nulo             305\n",
       "                         Não nulo         169\n",
       "Pessoa Jurídica          Nulo              30\n",
       "                         Não nulo          12\n",
       "Name: Gênero, dtype: int64"
      ]
     },
     "execution_count": 14,
     "metadata": {},
     "output_type": "execute_result"
    }
   ],
   "source": [
    "df_reviews.groupby(['Gênero','Status_review'])['Gênero'].count()"
   ]
  },
  {
   "cell_type": "markdown",
   "id": "12b4d098",
   "metadata": {},
   "source": [
    "### 4 – Qual o gênero preponderante das pessoas que deixaram as reviews negativas?"
   ]
  },
  {
   "cell_type": "code",
   "execution_count": 15,
   "id": "578601f0",
   "metadata": {},
   "outputs": [
    {
     "data": {
      "text/plain": [
       "Status\n",
       "Positivo    1074\n",
       "Negativo      66\n",
       "Name: Status, dtype: int64"
      ]
     },
     "execution_count": 15,
     "metadata": {},
     "output_type": "execute_result"
    }
   ],
   "source": [
    "df_reviews.groupby(['Status'])['Status'].count().sort_values(ascending=False)"
   ]
  },
  {
   "cell_type": "code",
   "execution_count": 16,
   "id": "9c21b990",
   "metadata": {},
   "outputs": [
    {
     "data": {
      "text/plain": [
       "Avaliação (estrelas)\n",
       "1      53\n",
       "2       2\n",
       "3      11\n",
       "4      41\n",
       "5    1033\n",
       "Name: Avaliação (estrelas), dtype: int64"
      ]
     },
     "execution_count": 16,
     "metadata": {},
     "output_type": "execute_result"
    }
   ],
   "source": [
    "df_reviews.groupby(['Avaliação (estrelas)'])['Avaliação (estrelas)'].count()"
   ]
  },
  {
   "cell_type": "code",
   "execution_count": 17,
   "id": "b802655d",
   "metadata": {},
   "outputs": [
    {
     "data": {
      "text/plain": [
       "Gênero\n",
       "Masculino                  31\n",
       "Feminino                   29\n",
       "Pessoa Jurídica             4\n",
       "Gênero não identificado     2\n",
       "Name: Gênero, dtype: int64"
      ]
     },
     "execution_count": 17,
     "metadata": {},
     "output_type": "execute_result"
    }
   ],
   "source": [
    "df_reviews.loc[df_reviews['Status'] == 'Negativo'].groupby(['Gênero'])['Gênero'].count().sort_values(ascending=False)"
   ]
  },
  {
   "cell_type": "markdown",
   "id": "354a9cbf",
   "metadata": {},
   "source": [
    "### 5 – Qual a média de reviews (estrelas) para cada gênero?"
   ]
  },
  {
   "cell_type": "code",
   "execution_count": 31,
   "id": "9ff2f257",
   "metadata": {},
   "outputs": [
    {
     "data": {
      "text/html": [
       "<div>\n",
       "<style scoped>\n",
       "    .dataframe tbody tr th:only-of-type {\n",
       "        vertical-align: middle;\n",
       "    }\n",
       "\n",
       "    .dataframe tbody tr th {\n",
       "        vertical-align: top;\n",
       "    }\n",
       "\n",
       "    .dataframe thead th {\n",
       "        text-align: right;\n",
       "    }\n",
       "</style>\n",
       "<table border=\"1\" class=\"dataframe\">\n",
       "  <thead>\n",
       "    <tr style=\"text-align: right;\">\n",
       "      <th></th>\n",
       "      <th></th>\n",
       "      <th>mean</th>\n",
       "      <th>std</th>\n",
       "    </tr>\n",
       "    <tr>\n",
       "      <th>Gênero</th>\n",
       "      <th>Periodo</th>\n",
       "      <th></th>\n",
       "      <th></th>\n",
       "    </tr>\n",
       "  </thead>\n",
       "  <tbody>\n",
       "    <tr>\n",
       "      <th rowspan=\"5\" valign=\"top\">Feminino</th>\n",
       "      <th>1 ano atrás ou menos</th>\n",
       "      <td>3.200000</td>\n",
       "      <td>1.989628</td>\n",
       "    </tr>\n",
       "    <tr>\n",
       "      <th>2 anos atrás</th>\n",
       "      <td>4.000000</td>\n",
       "      <td>2.000000</td>\n",
       "    </tr>\n",
       "    <tr>\n",
       "      <th>3 anos atrás</th>\n",
       "      <td>4.746479</td>\n",
       "      <td>0.905827</td>\n",
       "    </tr>\n",
       "    <tr>\n",
       "      <th>4 anos atrás</th>\n",
       "      <td>4.900609</td>\n",
       "      <td>0.477395</td>\n",
       "    </tr>\n",
       "    <tr>\n",
       "      <th>5 anos atrás</th>\n",
       "      <td>5.000000</td>\n",
       "      <td>0.000000</td>\n",
       "    </tr>\n",
       "    <tr>\n",
       "      <th rowspan=\"3\" valign=\"top\">Gênero não identificado</th>\n",
       "      <th>1 ano atrás ou menos</th>\n",
       "      <td>3.000000</td>\n",
       "      <td>2.828427</td>\n",
       "    </tr>\n",
       "    <tr>\n",
       "      <th>3 anos atrás</th>\n",
       "      <td>3.000000</td>\n",
       "      <td>2.828427</td>\n",
       "    </tr>\n",
       "    <tr>\n",
       "      <th>4 anos atrás</th>\n",
       "      <td>4.866667</td>\n",
       "      <td>0.351866</td>\n",
       "    </tr>\n",
       "    <tr>\n",
       "      <th rowspan=\"5\" valign=\"top\">Masculino</th>\n",
       "      <th>1 ano atrás ou menos</th>\n",
       "      <td>3.208333</td>\n",
       "      <td>1.910592</td>\n",
       "    </tr>\n",
       "    <tr>\n",
       "      <th>2 anos atrás</th>\n",
       "      <td>3.461538</td>\n",
       "      <td>1.808101</td>\n",
       "    </tr>\n",
       "    <tr>\n",
       "      <th>3 anos atrás</th>\n",
       "      <td>4.459016</td>\n",
       "      <td>1.361051</td>\n",
       "    </tr>\n",
       "    <tr>\n",
       "      <th>4 anos atrás</th>\n",
       "      <td>4.920981</td>\n",
       "      <td>0.426923</td>\n",
       "    </tr>\n",
       "    <tr>\n",
       "      <th>5 anos atrás</th>\n",
       "      <td>4.555556</td>\n",
       "      <td>1.333333</td>\n",
       "    </tr>\n",
       "    <tr>\n",
       "      <th rowspan=\"3\" valign=\"top\">Pessoa Jurídica</th>\n",
       "      <th>2 anos atrás</th>\n",
       "      <td>1.000000</td>\n",
       "      <td>NaN</td>\n",
       "    </tr>\n",
       "    <tr>\n",
       "      <th>3 anos atrás</th>\n",
       "      <td>3.500000</td>\n",
       "      <td>1.974842</td>\n",
       "    </tr>\n",
       "    <tr>\n",
       "      <th>4 anos atrás</th>\n",
       "      <td>4.885714</td>\n",
       "      <td>0.676123</td>\n",
       "    </tr>\n",
       "  </tbody>\n",
       "</table>\n",
       "</div>"
      ],
      "text/plain": [
       "                                                  mean       std\n",
       "Gênero                  Periodo                                 \n",
       "Feminino                1 ano atrás ou menos  3.200000  1.989628\n",
       "                        2 anos atrás          4.000000  2.000000\n",
       "                        3 anos atrás          4.746479  0.905827\n",
       "                        4 anos atrás          4.900609  0.477395\n",
       "                        5 anos atrás          5.000000  0.000000\n",
       "Gênero não identificado 1 ano atrás ou menos  3.000000  2.828427\n",
       "                        3 anos atrás          3.000000  2.828427\n",
       "                        4 anos atrás          4.866667  0.351866\n",
       "Masculino               1 ano atrás ou menos  3.208333  1.910592\n",
       "                        2 anos atrás          3.461538  1.808101\n",
       "                        3 anos atrás          4.459016  1.361051\n",
       "                        4 anos atrás          4.920981  0.426923\n",
       "                        5 anos atrás          4.555556  1.333333\n",
       "Pessoa Jurídica         2 anos atrás          1.000000       NaN\n",
       "                        3 anos atrás          3.500000  1.974842\n",
       "                        4 anos atrás          4.885714  0.676123"
      ]
     },
     "execution_count": 31,
     "metadata": {},
     "output_type": "execute_result"
    }
   ],
   "source": [
    "df_reviews.groupby(['Gênero','Periodo'])['Avaliação (estrelas)'].agg(['mean','std'])"
   ]
  },
  {
   "cell_type": "code",
   "execution_count": 30,
   "id": "32bc72a9",
   "metadata": {},
   "outputs": [
    {
     "data": {
      "text/html": [
       "<div>\n",
       "<style scoped>\n",
       "    .dataframe tbody tr th:only-of-type {\n",
       "        vertical-align: middle;\n",
       "    }\n",
       "\n",
       "    .dataframe tbody tr th {\n",
       "        vertical-align: top;\n",
       "    }\n",
       "\n",
       "    .dataframe thead th {\n",
       "        text-align: right;\n",
       "    }\n",
       "</style>\n",
       "<table border=\"1\" class=\"dataframe\">\n",
       "  <thead>\n",
       "    <tr style=\"text-align: right;\">\n",
       "      <th></th>\n",
       "      <th>mean</th>\n",
       "      <th>std</th>\n",
       "    </tr>\n",
       "    <tr>\n",
       "      <th>Gênero</th>\n",
       "      <th></th>\n",
       "      <th></th>\n",
       "    </tr>\n",
       "  </thead>\n",
       "  <tbody>\n",
       "    <tr>\n",
       "      <th>Feminino</th>\n",
       "      <td>4.793388</td>\n",
       "      <td>0.794407</td>\n",
       "    </tr>\n",
       "    <tr>\n",
       "      <th>Gênero não identificado</th>\n",
       "      <td>4.473684</td>\n",
       "      <td>1.263523</td>\n",
       "    </tr>\n",
       "    <tr>\n",
       "      <th>Masculino</th>\n",
       "      <td>4.727848</td>\n",
       "      <td>0.930903</td>\n",
       "    </tr>\n",
       "    <tr>\n",
       "      <th>Pessoa Jurídica</th>\n",
       "      <td>4.595238</td>\n",
       "      <td>1.190604</td>\n",
       "    </tr>\n",
       "  </tbody>\n",
       "</table>\n",
       "</div>"
      ],
      "text/plain": [
       "                             mean       std\n",
       "Gênero                                     \n",
       "Feminino                 4.793388  0.794407\n",
       "Gênero não identificado  4.473684  1.263523\n",
       "Masculino                4.727848  0.930903\n",
       "Pessoa Jurídica          4.595238  1.190604"
      ]
     },
     "execution_count": 30,
     "metadata": {},
     "output_type": "execute_result"
    }
   ],
   "source": [
    "df_reviews.groupby(['Gênero'])['Avaliação (estrelas)'].agg(['mean','std'])"
   ]
  },
  {
   "cell_type": "markdown",
   "id": "fa6860ad",
   "metadata": {},
   "source": [
    "### 6 – Como se comporta a distribuição das avaliações positivas e negativas no decorrer dos anos?"
   ]
  },
  {
   "cell_type": "code",
   "execution_count": 19,
   "id": "53098cf4",
   "metadata": {},
   "outputs": [
    {
     "data": {
      "text/html": [
       "<div>\n",
       "<style scoped>\n",
       "    .dataframe tbody tr th:only-of-type {\n",
       "        vertical-align: middle;\n",
       "    }\n",
       "\n",
       "    .dataframe tbody tr th {\n",
       "        vertical-align: top;\n",
       "    }\n",
       "\n",
       "    .dataframe thead th {\n",
       "        text-align: right;\n",
       "    }\n",
       "</style>\n",
       "<table border=\"1\" class=\"dataframe\">\n",
       "  <thead>\n",
       "    <tr style=\"text-align: right;\">\n",
       "      <th></th>\n",
       "      <th>mean</th>\n",
       "      <th>std</th>\n",
       "    </tr>\n",
       "    <tr>\n",
       "      <th>Periodo</th>\n",
       "      <th></th>\n",
       "      <th></th>\n",
       "    </tr>\n",
       "  </thead>\n",
       "  <tbody>\n",
       "    <tr>\n",
       "      <th>1 ano atrás ou menos</th>\n",
       "      <td>3.196429</td>\n",
       "      <td>1.939256</td>\n",
       "    </tr>\n",
       "    <tr>\n",
       "      <th>2 anos atrás</th>\n",
       "      <td>3.444444</td>\n",
       "      <td>1.854160</td>\n",
       "    </tr>\n",
       "    <tr>\n",
       "      <th>3 anos atrás</th>\n",
       "      <td>4.542857</td>\n",
       "      <td>1.231315</td>\n",
       "    </tr>\n",
       "    <tr>\n",
       "      <th>4 anos atrás</th>\n",
       "      <td>4.907692</td>\n",
       "      <td>0.464642</td>\n",
       "    </tr>\n",
       "    <tr>\n",
       "      <th>5 anos atrás</th>\n",
       "      <td>4.750000</td>\n",
       "      <td>1.000000</td>\n",
       "    </tr>\n",
       "  </tbody>\n",
       "</table>\n",
       "</div>"
      ],
      "text/plain": [
       "                          mean       std\n",
       "Periodo                                 \n",
       "1 ano atrás ou menos  3.196429  1.939256\n",
       "2 anos atrás          3.444444  1.854160\n",
       "3 anos atrás          4.542857  1.231315\n",
       "4 anos atrás          4.907692  0.464642\n",
       "5 anos atrás          4.750000  1.000000"
      ]
     },
     "execution_count": 19,
     "metadata": {},
     "output_type": "execute_result"
    }
   ],
   "source": [
    "df_reviews.groupby(['Periodo'])['Avaliação (estrelas)'].agg(['mean','std'])"
   ]
  },
  {
   "cell_type": "markdown",
   "id": "42641e83",
   "metadata": {},
   "source": [
    "### 7 – Quais foram os comentários negativos mais citados e qual a sua frequência?"
   ]
  },
  {
   "cell_type": "code",
   "execution_count": 20,
   "id": "699a19a7",
   "metadata": {},
   "outputs": [],
   "source": [
    "def trocar_textos(texto):\n",
    "    # concatenar as palavras\n",
    "    all_summary = \" \".join(s for s in summary)\n",
    "\n",
    "    # Retirando outros caracteres especiais\n",
    "    all_summary = all_summary.replace(',','')\n",
    "    all_summary = all_summary.replace(';','')\n",
    "    all_summary = all_summary.replace('!','')\n",
    "    all_summary = all_summary.replace(':','')\n",
    "    all_summary = all_summary.replace('.','')\n",
    "    all_summary = all_summary.replace('\"','')\n",
    "    all_summary = all_summary.replace('(','')\n",
    "    all_summary = all_summary.replace(')','')\n",
    "\n",
    "    # Normalizando palavras gerais\n",
    "    all_summary = all_summary.replace('medicos','medico')\n",
    "    all_summary = all_summary.replace('medicas','medico')\n",
    "    all_summary = all_summary.replace('medica','medico')\n",
    "    all_summary = all_summary.replace('aplicativo','app')\n",
    "    all_summary = all_summary.replace('plano','convenio')\n",
    "    all_summary = all_summary.replace('avaliacoes','avaliacao')\n",
    "    all_summary = all_summary.replace('consultas','consulta')\n",
    "    all_summary = all_summary.replace('pacientes','paciente')\n",
    "    all_summary = all_summary.replace('servicos','servico')\n",
    "    all_summary = all_summary.replace('profissionais','profissional')\n",
    "    all_summary = all_summary.replace('opinioes','opiniao')\n",
    "    all_summary = all_summary.replace('opnioes','opiniao')\n",
    "    all_summary = all_summary.replace('opniao','opiniao')\n",
    "    return all_summary"
   ]
  },
  {
   "cell_type": "code",
   "execution_count": 21,
   "id": "70afb6e2",
   "metadata": {},
   "outputs": [
    {
     "data": {
      "text/plain": [
       "Status_review\n",
       "Nulo        12\n",
       "Não nulo    54\n",
       "Name: Status_review, dtype: int64"
      ]
     },
     "execution_count": 21,
     "metadata": {},
     "output_type": "execute_result"
    }
   ],
   "source": [
    "df_reviews.loc[df_reviews['Status'] == 'Negativo'].groupby(['Status_review'])['Status_review'].count()"
   ]
  },
  {
   "cell_type": "code",
   "execution_count": 22,
   "id": "a4c541e2",
   "metadata": {},
   "outputs": [],
   "source": [
    "#pip install wordcloud"
   ]
  },
  {
   "cell_type": "code",
   "execution_count": 23,
   "id": "41688809",
   "metadata": {},
   "outputs": [],
   "source": [
    "# importar os pacotes necessários\n",
    "import matplotlib.pyplot as plt\n",
    "from PIL import Image\n",
    "from wordcloud import WordCloud, STOPWORDS, ImageColorGenerator"
   ]
  },
  {
   "cell_type": "code",
   "execution_count": 24,
   "id": "9472658b",
   "metadata": {},
   "outputs": [],
   "source": [
    "# eliminar as colunas com valores ausentes\n",
    "#summary = df_reviews.loc[df_reviews['Status'] == 'Negativo'].dropna(subset=['Review'], axis=0)['Review']\n",
    "\n",
    "from unicodedata import normalize\n",
    "\n",
    "summary = df_reviews.loc[df_reviews['Status'] == 'Negativo'].dropna(subset=['Review'], axis=0)['Review'].str.normalize('NFKD').str.encode(\"ascii\", errors=\"ignore\").str.decode(\"ascii\").str.lower()\n",
    "#summary"
   ]
  },
  {
   "cell_type": "code",
   "execution_count": 25,
   "id": "b36d8564",
   "metadata": {},
   "outputs": [],
   "source": [
    "#'https://gist.github.com/alopes/5358189#file-stopwords-txt'\n",
    "# https://gist.github.com/alopes/5358189?permalink_comment_id=3477894#gistcomment-3477894\n",
    "stopwords_portugues = pd.Series(['...', 'a', 'à', 'pra', 'adeus', 'agora', 'aí', 'ainda', 'além', 'algo', 'alguém', 'algum', 'alguma', 'algumas', 'alguns', 'ali', 'ampla', 'amplas', 'amplo', 'amplos', 'ano', 'anos', 'ante', 'antes', 'ao', 'aos', 'apenas', 'apoio', 'após', 'aquela', 'aquelas', 'aquele', 'aqueles', 'aqui', 'aquilo', 'área', 'as', 'às', 'assim', 'até', 'atrás', 'através', 'baixo', 'bastante', 'bem', 'boa', 'boas', 'bom', 'bons', 'breve', 'cá', 'cada', 'catorze', 'cedo', 'cento', 'certamente', 'certeza', 'cima', 'cinco', 'coisa', 'coisas', 'com', 'como', 'conselho', 'contra', 'contudo', 'custa', 'da', 'dá', 'dão', 'daquela', 'daquelas', 'daquele', 'daqueles', 'dar', 'das', 'de', 'debaixo', 'dela', 'delas', 'dele', 'deles', 'demais', 'dentro', 'depois', 'desde', 'dessa', 'dessas', 'desse', 'desses', 'desta', 'destas', 'deste', 'destes', 'deve', 'devem', 'devendo', 'dever', 'deverá', 'deverão', 'deveria', 'deveriam', 'devia', 'deviam', 'dez', 'dezanove', 'dezasseis', 'dezassete', 'dezoito', 'dia', 'diante', 'disse', 'disso', 'disto', 'dito', 'diz', 'dizem', 'dizer', 'do', 'dois', 'dos', 'doze', 'duas', 'dúvida', 'e', 'é', 'ela', 'elas', 'ele', 'eles', 'em', 'embora', 'enquanto', 'entre', 'era', 'eram', 'éramos', 'és', 'essa', 'essas', 'esse', 'esses', 'esta', 'está', 'estamos', 'estão', 'estar', 'estas', 'estás', 'estava', 'estavam', 'estávamos', 'este', 'esteja', 'estejam', 'estejamos', 'estes', 'esteve', 'estive', 'estivemos', 'estiver', 'estivera', 'estiveram', 'estivéramos', 'estiverem', 'estivermos', 'estivesse', 'estivessem', 'estivéssemos', 'estiveste', 'estivestes', 'estou', 'etc', 'eu', 'exemplo', 'faço', 'falta', 'favor', 'faz', 'fazeis', 'fazem', 'fazemos', 'fazendo', 'fazer', 'fazes', 'feita', 'feitas', 'feito', 'feitos', 'fez', 'fim', 'final', 'foi', 'fomos', 'for', 'fora', 'foram', 'fôramos', 'forem', 'forma', 'formos', 'fosse', 'fossem', 'fôssemos', 'foste', 'fostes', 'fui', 'geral', 'grande', 'grandes', 'grupo', 'há', 'haja', 'hajam', 'hajamos', 'hão', 'havemos', 'havia', 'hei', 'hoje', 'hora', 'horas', 'houve', 'houvemos', 'houver', 'houvera', 'houverá', 'houveram', 'houvéramos', 'houverão', 'houverei', 'houverem', 'houveremos', 'houveria', 'houveriam', 'houveríamos', 'houvermos', 'houvesse', 'houvessem', 'houvéssemos', 'isso', 'isto', 'já', 'la', 'lá', 'lado', 'lhe', 'lhes', 'lo', 'local', 'logo', 'longe', 'lugar', 'maior', 'maioria', 'mais', 'mal', 'mas', 'máximo', 'me', 'meio', 'menor', 'menos', 'mês', 'meses', 'mesma', 'mesmas', 'mesmo', 'mesmos', 'meu', 'meus', 'mil', 'minha', 'minhas', 'momento', 'muita', 'muitas', 'muito', 'muitos', 'na', 'nada', 'não', 'naquela', 'naquelas', 'naquele', 'naqueles', 'nas', 'nem', 'nenhum', 'nenhuma', 'nessa', 'nessas', 'nesse', 'nesses', 'nesta', 'nestas', 'neste', 'nestes', 'ninguém', 'nível', 'no', 'noite', 'nome', 'nos', 'nós', 'nossa', 'nossas', 'nosso', 'nossos', 'nova', 'novas', 'nove', 'novo', 'novos', 'num', 'numa', 'número', 'nunca', 'o', 'obra', 'obrigada', 'obrigado', 'oitava', 'oitavo', 'oito', 'onde', 'ontem', 'onze', 'os', 'ou', 'outra', 'outras', 'outro', 'outros', 'para', 'parece', 'parte', 'partir', 'paucas', 'pela', 'pelas', 'pelo', 'pelos', 'pequena', 'pequenas', 'pequeno', 'pequenos', 'per', 'perante', 'perto', 'pode', 'pude', 'pôde', 'podem', 'podendo', 'poder', 'poderia', 'poderiam', 'podia', 'podiam', 'põe', 'põem', 'pois', 'ponto', 'pontos', 'por', 'porém', 'porque', 'porquê', 'posição', 'possível', 'possivelmente', 'posso', 'pouca', 'poucas', 'pouco', 'poucos', 'primeira', 'primeiras', 'primeiro', 'primeiros', 'própria', 'próprias', 'próprio', 'próprios', 'próxima', 'próximas', 'próximo', 'próximos', 'pude', 'puderam', 'quais', 'quáis', 'qual', 'quando', 'quanto', 'quantos', 'quarta', 'quarto', 'quatro', 'que', 'quê', 'quem', 'quer', 'quereis', 'querem', 'queremas', 'queres', 'quero', 'questão', 'quinta', 'quinto', 'quinze', 'relação', 'sabe', 'sabem', 'são', 'se', 'segunda', 'segundo', 'sei', 'seis', 'seja', 'sejam', 'sejamos', 'sem', 'sempre', 'sendo', 'ser', 'será', 'serão', 'serei', 'seremos', 'seria', 'seriam', 'seríamos', 'sete', 'sétima', 'sétimo', 'seu', 'seus', 'sexta', 'sexto', 'si', 'sido', 'sim', 'sistema', 'só', 'sob', 'sobre', 'sois', 'somos', 'sou', 'sua', 'suas', 'tal', 'talvez', 'também', 'tampouco', 'tanta', 'tantas', 'tanto', 'tão', 'tarde', 'te', 'tem', 'tém', 'têm', 'temos', 'tendes', 'tendo', 'tenha', 'tenham', 'tenhamos', 'tenho', 'tens', 'ter', 'terá', 'terão', 'terceira', 'terceiro', 'terei', 'teremos', 'teria', 'teriam', 'teríamos', 'teu', 'teus', 'teve', 'ti', 'tido', 'tinha', 'tinham', 'tínhamos', 'tive', 'tivemos', 'tiver', 'tivera', 'tiveram', 'tivéramos', 'tiverem', 'tivermos', 'tivesse', 'tivessem', 'tivéssemos', 'tiveste', 'tivestes', 'toda', 'todas', 'todavia', 'todo', 'todos', 'trabalho', 'três', 'treze', 'tu', 'tua', 'tuas', 'tudo', 'última', 'últimas', 'último', 'últimos', 'um', 'uma', 'umas', 'uns', 'vai', 'vais', 'vão', 'vários', 'vem', 'vêm', 'vendo', 'vens', 'ver', 'vez', 'vezes', 'viagem', 'vindo', 'vinte', 'vir', 'você', 'vocês', 'vos', 'vós', 'vossa', 'vossas', 'vosso', 'vossos', 'zero', '1', '2', '3', '4', '5', '6', '7', '8', '9', '0', '_' ,\n",
    "                      'Doctoralia']).str.normalize('NFKD').str.encode(\"ascii\", errors=\"ignore\").str.decode(\"ascii\").str.lower().drop_duplicates()"
   ]
  },
  {
   "cell_type": "code",
   "execution_count": 26,
   "id": "d5d0bd0f",
   "metadata": {},
   "outputs": [],
   "source": [
    "# concatenar as palavras\n",
    "all_summary = \" \".join(s for s in summary)\n",
    "\n",
    "all_summary = trocar_textos(all_summary)\n",
    "\n",
    "# lista de stopword\n",
    "stopwords = set(STOPWORDS)\n",
    "stopwords.update(stopwords_portugues)"
   ]
  },
  {
   "cell_type": "code",
   "execution_count": 27,
   "id": "42c8b1bb",
   "metadata": {},
   "outputs": [
    {
     "data": {
      "text/plain": [
       "Palavras\n",
       "medico          29\n",
       "plataforma      24\n",
       "avaliacao       19\n",
       "site            17\n",
       "servico         16\n",
       "profissional    14\n",
       "consulta        13\n",
       "opiniao          9\n",
       "convenio         7\n",
       "paciente         6\n",
       "atendimento      6\n",
       "negativas        5\n",
       "positivas        5\n",
       "ruim             5\n",
       "fiz              5\n",
       "recebi           4\n",
       "saude            4\n",
       "aceita           4\n",
       "consultorio      4\n",
       "tempo            4\n",
       "Name: Palavras, dtype: int64"
      ]
     },
     "execution_count": 27,
     "metadata": {},
     "output_type": "execute_result"
    }
   ],
   "source": [
    "palavras = all_summary.split()\n",
    "\n",
    "df_palavras = pd.DataFrame(palavras, columns = ['Palavras'])\n",
    "\n",
    "df_palavras_tratadas =  df_palavras[~df_palavras.Palavras.isin(stopwords_portugues)].groupby(by = 'Palavras')['Palavras'].count().sort_values(ascending=False)\n",
    "df_palavras_tratadas.head(20)"
   ]
  },
  {
   "cell_type": "code",
   "execution_count": 28,
   "id": "4c2ec478",
   "metadata": {},
   "outputs": [
    {
     "data": {
      "text/plain": [
       "'\\n# gerar uma wordcloud\\nwordcloud = WordCloud(stopwords=stopwords,\\n                      background_color=\"black\",\\n                      width=1600, height=800,normalize_plurals=False).generate(all_summary)\\n# mostrar a imagem final\\nfig, ax = plt.subplots(figsize=(10,6))\\nax.imshow(wordcloud, interpolation=\\'bilinear\\')\\nax.set_axis_off()\\nplt.imshow(wordcloud);\\nwordcloud.to_file(\"summary_wordcloud.png\")\\n'"
      ]
     },
     "execution_count": 28,
     "metadata": {},
     "output_type": "execute_result"
    }
   ],
   "source": [
    "'''\n",
    "# gerar uma wordcloud\n",
    "wordcloud = WordCloud(stopwords=stopwords,\n",
    "                      background_color=\"black\",\n",
    "                      width=1600, height=800,normalize_plurals=False).generate(all_summary)\n",
    "# mostrar a imagem final\n",
    "fig, ax = plt.subplots(figsize=(10,6))\n",
    "ax.imshow(wordcloud, interpolation='bilinear')\n",
    "ax.set_axis_off()\n",
    "plt.imshow(wordcloud);\n",
    "wordcloud.to_file(\"summary_wordcloud.png\")\n",
    "'''"
   ]
  },
  {
   "cell_type": "code",
   "execution_count": null,
   "id": "77977dab",
   "metadata": {},
   "outputs": [],
   "source": []
  },
  {
   "cell_type": "code",
   "execution_count": null,
   "id": "26ecb6f3",
   "metadata": {},
   "outputs": [],
   "source": []
  },
  {
   "cell_type": "code",
   "execution_count": null,
   "id": "4a51b25b",
   "metadata": {},
   "outputs": [],
   "source": []
  }
 ],
 "metadata": {
  "kernelspec": {
   "display_name": "Python 3 (ipykernel)",
   "language": "python",
   "name": "python3"
  },
  "language_info": {
   "codemirror_mode": {
    "name": "ipython",
    "version": 3
   },
   "file_extension": ".py",
   "mimetype": "text/x-python",
   "name": "python",
   "nbconvert_exporter": "python",
   "pygments_lexer": "ipython3",
   "version": "3.9.7"
  }
 },
 "nbformat": 4,
 "nbformat_minor": 5
}
