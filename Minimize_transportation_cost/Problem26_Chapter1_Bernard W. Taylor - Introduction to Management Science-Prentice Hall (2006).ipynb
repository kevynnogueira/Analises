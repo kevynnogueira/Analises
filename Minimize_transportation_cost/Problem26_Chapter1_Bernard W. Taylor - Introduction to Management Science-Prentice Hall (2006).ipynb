{
 "cells": [
  {
   "cell_type": "markdown",
   "id": "929c847f",
   "metadata": {},
   "source": [
    "# Problem : Minimize transportation costs\n",
    "\n",
    "> This analysis is an answer to the question 26 of the first chapter of the book \"Introduction to Management Science\" from the author Bernard W. Taylor. \n",
    "\n",
    "The Easy Drive Car Rental Agency needs 500 new cars in its Nashville operation and 300 new cars in Jacksonville, and it currently has 400 new cars in both Atlanta and Birmingham. It costs \\\\$30 to move a car from Atlanta to Nashville, \\\\$70 to move a car from Atlanta to Jacksonville, \\\\$40 to move a car from Birmingham to Nashville, and \\\\$60 to move a car from Birmingham to Jacksonville. The agency wants to determine how many cars should be transported from the agencies in Atlanta and Birmingham to the agencies in Nashville and Jacksonville in order to meet demand while minimizing the transport costs. Develop a mathematical model for this problem and use logic to determine a solution."
   ]
  },
  {
   "cell_type": "code",
   "execution_count": 1,
   "id": "5da943ae",
   "metadata": {},
   "outputs": [],
   "source": [
    "import pandas as pd"
   ]
  },
  {
   "cell_type": "markdown",
   "id": "0fd68824",
   "metadata": {},
   "source": [
    "The problem can be modelled considering each possible route as a variable and implementing constraints based on the capacity of each agency.\n",
    "\n",
    "#### Possible routes with respective prices and variables\n",
    "Atlanta to Nashville: \\\\$30 per car, x cars\n",
    "<br>\n",
    "Atlanta to Jacksonville: \\\\$70 per car, y cars\n",
    "<br>\n",
    "Birmingham to Nashville: \\\\$40 per car, w cars\n",
    "<br>\n",
    "Birmingham to Jacksonville: \\\\$60 per car, z cars\n",
    "\n",
    "#### The cost to be minimized is the sum of the product of each price and each the number of cars moved from a agency to another.\n",
    "Minimize C = 30*x + 70*y + 40*w + 60*z\n",
    "<br>\n",
    "#### And the possible scenarios of cost is restricted by the total number of cars that can be moved from a agency to another:\n",
    "Subject to:\n",
    "<br>\n",
    "x + y = 400\n",
    "<br>\n",
    "w + z = 400\n",
    "<br>\n",
    "x + w = 500\n",
    "<br>\n",
    "y + z = 300"
   ]
  },
  {
   "cell_type": "markdown",
   "id": "c98d7c06",
   "metadata": {},
   "source": [
    "### Method one\n",
    "In this method, a manual approach was used to find the scenario of transportation that returns the lowest total cost for the combination of each route. No optimization packages were used."
   ]
  },
  {
   "cell_type": "code",
   "execution_count": 2,
   "id": "e9442345",
   "metadata": {},
   "outputs": [
    {
     "data": {
      "text/plain": [
       "[{x: z + 100, y: 300 - z, w: 400 - z}]"
      ]
     },
     "execution_count": 2,
     "metadata": {},
     "output_type": "execute_result"
    }
   ],
   "source": [
    "# Here, the variables are put a function of z\n",
    "from sympy.abc import x, y, w, z #Ao invés de usar o sym.symbols, podemos importar esses já prontos\n",
    "from sympy import solve\n",
    "\n",
    "equations = [x + y - 400, w + z - 400, x + w - 500, y + z - 300]           \n",
    "            \n",
    "solutions = solve(equations, [x, y, w, z], dict=True)\n",
    "\n",
    "solutions"
   ]
  },
  {
   "cell_type": "code",
   "execution_count": 3,
   "id": "0887e91b",
   "metadata": {},
   "outputs": [],
   "source": [
    "# [{x: z + 100, y: 300 - z, w: 400 - z}]\n",
    "\n",
    "# The restrictions were put as a function of z to reduce the time of calculation. \n",
    "#Instead of running thousands of scnearios, only 400 are needed. 400 is the maximum value that z can assume.\n",
    "\n",
    "combinations = []\n",
    "limz = 400\n",
    "i = 0\n",
    "\n",
    "for z in range(0, limz + 1):\n",
    "    x = z + 100\n",
    "    y = 300 - z\n",
    "    w = 400 - z\n",
    "    if (x + y == 400) & (w + z == 400) & (x + w == 500) & (y + z == 300) & (x >= 0) & (y >= 0) & (w >= 0):\n",
    "        combinations.append([i, x, y, w, z, 30*x + 70*y + 40*w + 60*z]) \n",
    "        i += 1\n",
    "    else: pass # pass because we are only interested in the scenarios that meet all restrictions."
   ]
  },
  {
   "cell_type": "code",
   "execution_count": 4,
   "id": "aef02f6d",
   "metadata": {},
   "outputs": [],
   "source": [
    "# The objective here is to find the scenario with minimal cost.\n",
    "\n",
    "#First, we find the biggest cost\n",
    "max_c = 0\n",
    "\n",
    "for i in range(0,len(combinations)):\n",
    "    if combinations[i][5] >= max_c:\n",
    "        max_c = combinations[i][5]\n",
    "    else: pass\n",
    "    \n",
    "# Knowing the biggest cost, we can now compare each scenario to find the one with the lowest cost.\n",
    "min_c = max_c\n",
    "n = 0\n",
    "for i in range(0,len(combinations)):\n",
    "    if combinations[i][5] <= min_c:\n",
    "        min_c = combinations[i][5]\n",
    "        n = i\n",
    "    else: pass"
   ]
  },
  {
   "cell_type": "code",
   "execution_count": 5,
   "id": "ec94f516",
   "metadata": {},
   "outputs": [
    {
     "name": "stdout",
     "output_type": "stream",
     "text": [
      "The lowest cost, $34000, is achieved when...\n",
      "400 cars are moved from Atlanta to Nashville\n",
      "0 cars are moved from Atlanta to Jacksonville\n",
      "100 cars are moved from Birmingham to Nashville\n",
      "300 cars are moved from Birmingham to Jacksonville\n"
     ]
    }
   ],
   "source": [
    "print('The lowest cost, ${}, is achieved when...'.format(combinations[n][5]))\n",
    "print('{} cars are moved from Atlanta to Nashville'.format(combinations[n][1]))\n",
    "print('{} cars are moved from Atlanta to Jacksonville'.format(combinations[n][2]))\n",
    "print('{} cars are moved from Birmingham to Nashville'.format(combinations[n][3]))\n",
    "print('{} cars are moved from Birmingham to Jacksonville'.format(combinations[n][4]))"
   ]
  },
  {
   "cell_type": "markdown",
   "id": "61ae6907",
   "metadata": {},
   "source": [
    "### Method two\n",
    "In this method, PuLP, a optimization package, was used. It saves time of resolution and reduces the time spent writhing code."
   ]
  },
  {
   "cell_type": "code",
   "execution_count": 6,
   "id": "7b376968",
   "metadata": {},
   "outputs": [
    {
     "name": "stdout",
     "output_type": "stream",
     "text": [
      "The lowest cost, $34000.0, is achieved when...\n",
      "400 cars are moved from Atlanta to Nashville\n",
      "0 cars are moved from Atlanta to Jacksonville\n",
      "100 cars are moved from Birmingham to Nashville\n",
      "300 cars are moved from Birmingham to Jacksonville\n"
     ]
    }
   ],
   "source": [
    "from pulp import *\n",
    "# declare your variables\n",
    "x = LpVariable(\"x\", 0) # 0<=x\n",
    "y = LpVariable(\"y\", 0) # 0<=y\n",
    "w = LpVariable(\"w\", 0) # 0<=w\n",
    "z = LpVariable(\"z\", 0) # 0<=z\n",
    "\n",
    "# defines the problem\n",
    "prob = LpProblem(\"optimi\", LpMinimize)\n",
    "\n",
    "# defines the constraints\n",
    "prob += x + y == 400\n",
    "prob += w + z == 400\n",
    "prob += x + w == 500\n",
    "prob += y + z == 300\n",
    "\n",
    "# defines the objective function to maximize\n",
    "prob += 30*x + 70*y + 40*w + 60*z\n",
    "\n",
    "# solve the problem\n",
    "status = prob.solve()\n",
    "\n",
    "#print(LpStatus[status])\n",
    "\n",
    "print('The lowest cost, ${}, is achieved when...'.format(30*value(x) + 70*value(y)+ 40*value(w) + 60*value(z)))\n",
    "print('{:.0f} cars are moved from Atlanta to Nashville'.format(value(x)))\n",
    "print('{:.0f} cars are moved from Atlanta to Jacksonville'.format(value(y)))\n",
    "print('{:.0f} cars are moved from Birmingham to Nashville'.format(value(w)))\n",
    "print('{:.0f} cars are moved from Birmingham to Jacksonville'.format(value(z)))"
   ]
  }
 ],
 "metadata": {
  "kernelspec": {
   "display_name": "Python 3 (ipykernel)",
   "language": "python",
   "name": "python3"
  },
  "language_info": {
   "codemirror_mode": {
    "name": "ipython",
    "version": 3
   },
   "file_extension": ".py",
   "mimetype": "text/x-python",
   "name": "python",
   "nbconvert_exporter": "python",
   "pygments_lexer": "ipython3",
   "version": "3.9.7"
  }
 },
 "nbformat": 4,
 "nbformat_minor": 5
}
